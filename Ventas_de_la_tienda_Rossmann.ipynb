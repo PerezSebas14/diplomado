{
  "nbformat": 4,
  "nbformat_minor": 0,
  "metadata": {
    "colab": {
      "name": "Ventas de la tienda Rossmann.ipynb",
      "provenance": [],
      "collapsed_sections": [
        "SbHR-cB4DUmJ",
        "Jxn1Rg0iHd7Y",
        "mKtBt5LCFiUK",
        "KVKYpvWwOILi",
        "c1H3bSX9f3GS",
        "U90nHAdlZk3C",
        "OgXMzccVmYqh"
      ],
      "toc_visible": true,
      "mount_file_id": "1jrv3qPR32PJw-XcsGYmwrk_esJPwk8aJ",
      "authorship_tag": "ABX9TyNVAvxVFqz9zY/Wvb3KlLZO",
      "include_colab_link": true
    },
    "kernelspec": {
      "name": "python3",
      "display_name": "Python 3"
    },
    "language_info": {
      "name": "python"
    }
  },
  "cells": [
    {
      "cell_type": "markdown",
      "metadata": {
        "id": "view-in-github",
        "colab_type": "text"
      },
      "source": [
        "<a href=\"https://colab.research.google.com/github/PerezSebas14/diplomado/blob/main/Ventas_de_la_tienda_Rossmann.ipynb\" target=\"_parent\"><img src=\"https://colab.research.google.com/assets/colab-badge.svg\" alt=\"Open In Colab\"/></a>"
      ]
    },
    {
      "cell_type": "markdown",
      "metadata": {
        "id": "SbHR-cB4DUmJ"
      },
      "source": [
        "# **1. Contexto del problema**\n",
        "\n",
        "Rossmann opera más de 3.000 farmacias en 7 países europeos. Actualmente, los gerentes de las tiendas Rossmann tienen la tarea de predecir sus ventas diarias con hasta seis semanas de anticipación. Las ventas en las tiendas están influenciadas por muchos factores, incluidas las promociones, la competencia, las vacaciones escolares y estatales, la estacionalidad y la localidad. Con miles de gerentes individuales que predicen las ventas en función de sus circunstancias únicas, la precisión de los resultados puede variar bastante.\n",
        "https://www.kaggle.com/c/rossmann-store-sales"
      ]
    },
    {
      "cell_type": "markdown",
      "metadata": {
        "id": "Jxn1Rg0iHd7Y"
      },
      "source": [
        "#**2. Conocimiento de los datos**\n"
      ]
    },
    {
      "cell_type": "markdown",
      "metadata": {
        "id": "-VkUGBSuHtYx"
      },
      "source": [
        "**Importar librerías**"
      ]
    },
    {
      "cell_type": "code",
      "metadata": {
        "id": "8gVxD-JDHwO4"
      },
      "source": [
        "import numpy as np # Cálculos matemáticos - Muy popular para el procesamiento de matrices y matrices multidimensionales de gran tamaño\n",
        "import pandas as pd # Depuración de datos - Análisis y tratamiento de datos\n",
        "import matplotlib.pyplot as plt # Gráficos estadísticos\n",
        "import seaborn as sns # Gráficos estadísticos\n",
        "from scipy.stats import shapiro # Pruebas de hipótesis\n",
        "from scipy.stats import chi2_contingency # Pruebas de hipótesis\n",
        "\n",
        "\n",
        "# Modelación en ML\n",
        "from sklearn.model_selection import  train_test_split # Dividir la data en entrenamiento y prueba"
      ],
      "execution_count": 1,
      "outputs": []
    },
    {
      "cell_type": "code",
      "metadata": {
        "id": "pB-D16MyO05d"
      },
      "source": [
        "pd.options.display.float_format = \"{:.6f}\".format"
      ],
      "execution_count": 2,
      "outputs": []
    },
    {
      "cell_type": "markdown",
      "metadata": {
        "id": "fZHWwhetIyTV"
      },
      "source": [
        "**Importar los datos**\n",
        "Descripciones de archivos\n",
        "* store.csv : información complementaria sobre las tiendas\n",
        "* train.csv : datos históricos que incluyen ventas\n",
        "* test.csv - datos históricos excluyendo ventas\n",
        "* sample_submission.csv : un archivo de envío de muestra en el formato correcto\n",
        "\n"
      ]
    },
    {
      "cell_type": "code",
      "metadata": {
        "colab": {
          "base_uri": "https://localhost:8080/"
        },
        "id": "7AetfzC5JcBa",
        "outputId": "3da4a40a-f641-4879-bf8d-2c80bc1a833c"
      },
      "source": [
        "# Detalles de cada tienda\n",
        "store = pd.read_csv(\"/content/drive/MyDrive/Diplomado Big Data/2. Análisis Descriptivo y Exploratorio/Insumos/rossmann-store-sales/store.csv\")\n",
        "# ventas históricas de todas las tiendas (desde el 1 de enero de 2013 hasta 31 jul de 2015)\n",
        "train = pd.read_csv(\"/content/drive/MyDrive/Diplomado Big Data/2. Análisis Descriptivo y Exploratorio/Insumos/rossmann-store-sales/train.csv\")\n",
        "# Tiendas y fechas a realizarles la predicción (Desde el 1 de agosto de 2015 hasta el 17 de septiembre de 2015)\n",
        "test = pd.read_csv(\"/content/drive/MyDrive/Diplomado Big Data/2. Análisis Descriptivo y Exploratorio/Insumos/rossmann-store-sales/test.csv\")\n",
        "# Archivo con el formato final a entregar con la predicción\n",
        "sample_submission = pd.read_csv(\"/content/drive/MyDrive/Diplomado Big Data/2. Análisis Descriptivo y Exploratorio/Insumos/rossmann-store-sales/sample_submission.csv\")\n"
      ],
      "execution_count": 3,
      "outputs": [
        {
          "output_type": "stream",
          "text": [
            "/usr/local/lib/python3.7/dist-packages/IPython/core/interactiveshell.py:2718: DtypeWarning: Columns (7) have mixed types.Specify dtype option on import or set low_memory=False.\n",
            "  interactivity=interactivity, compiler=compiler, result=result)\n"
          ],
          "name": "stderr"
        }
      ]
    },
    {
      "cell_type": "code",
      "metadata": {
        "id": "YBcjh-9sCln2"
      },
      "source": [
        "# ventas históricas de todas las tiendas (Como la base original no contiene ningún NA, se altera desde el origen con N/A para realizar la práctrica de datos perdidos e imputación)\n",
        "train_NA = pd.read_csv(\"/content/drive/MyDrive/Diplomado Big Data/2. Análisis Descriptivo y Exploratorio/Insumos/rossmann-store-sales/train_Con_NA.csv\", sep=';')"
      ],
      "execution_count": 4,
      "outputs": []
    },
    {
      "cell_type": "markdown",
      "metadata": {
        "id": "V_yvIKYhObl5"
      },
      "source": [
        "**Revisamos la data histórica**"
      ]
    },
    {
      "cell_type": "markdown",
      "metadata": {
        "id": "S0W-LoNHOjZ5"
      },
      "source": [
        "**Dimensión de la data histórica (Cuántas filas y columnas tiene)**"
      ]
    },
    {
      "cell_type": "code",
      "metadata": {
        "colab": {
          "base_uri": "https://localhost:8080/"
        },
        "id": "G12FDCaVOoHw",
        "outputId": "0c93931d-adfb-4efe-d7db-b75654e9c6ad"
      },
      "source": [
        "train.shape"
      ],
      "execution_count": 5,
      "outputs": [
        {
          "output_type": "execute_result",
          "data": {
            "text/plain": [
              "(1017209, 9)"
            ]
          },
          "metadata": {
            "tags": []
          },
          "execution_count": 5
        }
      ]
    },
    {
      "cell_type": "code",
      "metadata": {
        "colab": {
          "base_uri": "https://localhost:8080/"
        },
        "id": "xkQEQ9DGB9tr",
        "outputId": "cf878ddd-6e54-4a87-cda5-b687bf6ae338"
      },
      "source": [
        "train_NA.shape"
      ],
      "execution_count": 6,
      "outputs": [
        {
          "output_type": "execute_result",
          "data": {
            "text/plain": [
              "(1017209, 9)"
            ]
          },
          "metadata": {
            "tags": []
          },
          "execution_count": 6
        }
      ]
    },
    {
      "cell_type": "markdown",
      "metadata": {
        "id": "dHo34bsoOwqp"
      },
      "source": [
        "**Dimensión de la data activa (tiendas y fechas a las que se les va a predecir las ventas)**"
      ]
    },
    {
      "cell_type": "code",
      "metadata": {
        "colab": {
          "base_uri": "https://localhost:8080/"
        },
        "id": "ggv-ekPHO43o",
        "outputId": "5e367ffa-2e51-4b1c-c46c-f47868c79a10"
      },
      "source": [
        "test.shape"
      ],
      "execution_count": 7,
      "outputs": [
        {
          "output_type": "execute_result",
          "data": {
            "text/plain": [
              "(41088, 8)"
            ]
          },
          "metadata": {
            "tags": []
          },
          "execution_count": 7
        }
      ]
    },
    {
      "cell_type": "markdown",
      "metadata": {
        "id": "WjnecfiBPZYJ"
      },
      "source": [
        "**Estructura de la data**"
      ]
    },
    {
      "cell_type": "code",
      "metadata": {
        "colab": {
          "base_uri": "https://localhost:8080/",
          "height": 206
        },
        "id": "Up2-9U68Pn2J",
        "outputId": "ad120ff4-bc8f-4fcf-e8bb-928ae1c44bb6"
      },
      "source": [
        "train.head(5)"
      ],
      "execution_count": 8,
      "outputs": [
        {
          "output_type": "execute_result",
          "data": {
            "text/html": [
              "<div>\n",
              "<style scoped>\n",
              "    .dataframe tbody tr th:only-of-type {\n",
              "        vertical-align: middle;\n",
              "    }\n",
              "\n",
              "    .dataframe tbody tr th {\n",
              "        vertical-align: top;\n",
              "    }\n",
              "\n",
              "    .dataframe thead th {\n",
              "        text-align: right;\n",
              "    }\n",
              "</style>\n",
              "<table border=\"1\" class=\"dataframe\">\n",
              "  <thead>\n",
              "    <tr style=\"text-align: right;\">\n",
              "      <th></th>\n",
              "      <th>Store</th>\n",
              "      <th>DayOfWeek</th>\n",
              "      <th>Date</th>\n",
              "      <th>Sales</th>\n",
              "      <th>Customers</th>\n",
              "      <th>Open</th>\n",
              "      <th>Promo</th>\n",
              "      <th>StateHoliday</th>\n",
              "      <th>SchoolHoliday</th>\n",
              "    </tr>\n",
              "  </thead>\n",
              "  <tbody>\n",
              "    <tr>\n",
              "      <th>0</th>\n",
              "      <td>1</td>\n",
              "      <td>5</td>\n",
              "      <td>2015-07-31</td>\n",
              "      <td>5263</td>\n",
              "      <td>555</td>\n",
              "      <td>1</td>\n",
              "      <td>1</td>\n",
              "      <td>0</td>\n",
              "      <td>1</td>\n",
              "    </tr>\n",
              "    <tr>\n",
              "      <th>1</th>\n",
              "      <td>2</td>\n",
              "      <td>5</td>\n",
              "      <td>2015-07-31</td>\n",
              "      <td>6064</td>\n",
              "      <td>625</td>\n",
              "      <td>1</td>\n",
              "      <td>1</td>\n",
              "      <td>0</td>\n",
              "      <td>1</td>\n",
              "    </tr>\n",
              "    <tr>\n",
              "      <th>2</th>\n",
              "      <td>3</td>\n",
              "      <td>5</td>\n",
              "      <td>2015-07-31</td>\n",
              "      <td>8314</td>\n",
              "      <td>821</td>\n",
              "      <td>1</td>\n",
              "      <td>1</td>\n",
              "      <td>0</td>\n",
              "      <td>1</td>\n",
              "    </tr>\n",
              "    <tr>\n",
              "      <th>3</th>\n",
              "      <td>4</td>\n",
              "      <td>5</td>\n",
              "      <td>2015-07-31</td>\n",
              "      <td>13995</td>\n",
              "      <td>1498</td>\n",
              "      <td>1</td>\n",
              "      <td>1</td>\n",
              "      <td>0</td>\n",
              "      <td>1</td>\n",
              "    </tr>\n",
              "    <tr>\n",
              "      <th>4</th>\n",
              "      <td>5</td>\n",
              "      <td>5</td>\n",
              "      <td>2015-07-31</td>\n",
              "      <td>4822</td>\n",
              "      <td>559</td>\n",
              "      <td>1</td>\n",
              "      <td>1</td>\n",
              "      <td>0</td>\n",
              "      <td>1</td>\n",
              "    </tr>\n",
              "  </tbody>\n",
              "</table>\n",
              "</div>"
            ],
            "text/plain": [
              "   Store  DayOfWeek        Date  Sales  ...  Open  Promo  StateHoliday SchoolHoliday\n",
              "0      1          5  2015-07-31   5263  ...     1      1             0             1\n",
              "1      2          5  2015-07-31   6064  ...     1      1             0             1\n",
              "2      3          5  2015-07-31   8314  ...     1      1             0             1\n",
              "3      4          5  2015-07-31  13995  ...     1      1             0             1\n",
              "4      5          5  2015-07-31   4822  ...     1      1             0             1\n",
              "\n",
              "[5 rows x 9 columns]"
            ]
          },
          "metadata": {
            "tags": []
          },
          "execution_count": 8
        }
      ]
    },
    {
      "cell_type": "code",
      "metadata": {
        "colab": {
          "base_uri": "https://localhost:8080/",
          "height": 206
        },
        "id": "DsiVV51ZCKdv",
        "outputId": "b55da5ef-7b6e-4efa-d3dd-465ddf6fb015"
      },
      "source": [
        "train_NA.head(5)"
      ],
      "execution_count": 9,
      "outputs": [
        {
          "output_type": "execute_result",
          "data": {
            "text/html": [
              "<div>\n",
              "<style scoped>\n",
              "    .dataframe tbody tr th:only-of-type {\n",
              "        vertical-align: middle;\n",
              "    }\n",
              "\n",
              "    .dataframe tbody tr th {\n",
              "        vertical-align: top;\n",
              "    }\n",
              "\n",
              "    .dataframe thead th {\n",
              "        text-align: right;\n",
              "    }\n",
              "</style>\n",
              "<table border=\"1\" class=\"dataframe\">\n",
              "  <thead>\n",
              "    <tr style=\"text-align: right;\">\n",
              "      <th></th>\n",
              "      <th>Store</th>\n",
              "      <th>DayOfWeek</th>\n",
              "      <th>Date</th>\n",
              "      <th>Sales</th>\n",
              "      <th>Customers</th>\n",
              "      <th>Open</th>\n",
              "      <th>Promo</th>\n",
              "      <th>StateHoliday</th>\n",
              "      <th>SchoolHoliday</th>\n",
              "    </tr>\n",
              "  </thead>\n",
              "  <tbody>\n",
              "    <tr>\n",
              "      <th>0</th>\n",
              "      <td>1</td>\n",
              "      <td>2</td>\n",
              "      <td>1/1/2013</td>\n",
              "      <td>0.000000</td>\n",
              "      <td>0</td>\n",
              "      <td>0</td>\n",
              "      <td>0</td>\n",
              "      <td>a</td>\n",
              "      <td>1</td>\n",
              "    </tr>\n",
              "    <tr>\n",
              "      <th>1</th>\n",
              "      <td>2</td>\n",
              "      <td>5</td>\n",
              "      <td>31/7/2015</td>\n",
              "      <td>6064.000000</td>\n",
              "      <td>625</td>\n",
              "      <td>1</td>\n",
              "      <td>1</td>\n",
              "      <td>0</td>\n",
              "      <td>1</td>\n",
              "    </tr>\n",
              "    <tr>\n",
              "      <th>2</th>\n",
              "      <td>3</td>\n",
              "      <td>5</td>\n",
              "      <td>31/7/2015</td>\n",
              "      <td>8314.000000</td>\n",
              "      <td>821</td>\n",
              "      <td>1</td>\n",
              "      <td>1</td>\n",
              "      <td>0</td>\n",
              "      <td>1</td>\n",
              "    </tr>\n",
              "    <tr>\n",
              "      <th>3</th>\n",
              "      <td>4</td>\n",
              "      <td>5</td>\n",
              "      <td>31/7/2015</td>\n",
              "      <td>13995.000000</td>\n",
              "      <td>1498</td>\n",
              "      <td>1</td>\n",
              "      <td>1</td>\n",
              "      <td>0</td>\n",
              "      <td>1</td>\n",
              "    </tr>\n",
              "    <tr>\n",
              "      <th>4</th>\n",
              "      <td>5</td>\n",
              "      <td>5</td>\n",
              "      <td>31/7/2015</td>\n",
              "      <td>4822.000000</td>\n",
              "      <td>559</td>\n",
              "      <td>1</td>\n",
              "      <td>1</td>\n",
              "      <td>0</td>\n",
              "      <td>1</td>\n",
              "    </tr>\n",
              "  </tbody>\n",
              "</table>\n",
              "</div>"
            ],
            "text/plain": [
              "   Store  DayOfWeek       Date  ...  Promo  StateHoliday  SchoolHoliday\n",
              "0      1          2   1/1/2013  ...      0             a              1\n",
              "1      2          5  31/7/2015  ...      1             0              1\n",
              "2      3          5  31/7/2015  ...      1             0              1\n",
              "3      4          5  31/7/2015  ...      1             0              1\n",
              "4      5          5  31/7/2015  ...      1             0              1\n",
              "\n",
              "[5 rows x 9 columns]"
            ]
          },
          "metadata": {
            "tags": []
          },
          "execution_count": 9
        }
      ]
    },
    {
      "cell_type": "code",
      "metadata": {
        "colab": {
          "base_uri": "https://localhost:8080/",
          "height": 206
        },
        "id": "e4xVG25jPx-I",
        "outputId": "601a5916-7028-4daa-cb62-81e752f3f579"
      },
      "source": [
        "test.head(5)"
      ],
      "execution_count": 10,
      "outputs": [
        {
          "output_type": "execute_result",
          "data": {
            "text/html": [
              "<div>\n",
              "<style scoped>\n",
              "    .dataframe tbody tr th:only-of-type {\n",
              "        vertical-align: middle;\n",
              "    }\n",
              "\n",
              "    .dataframe tbody tr th {\n",
              "        vertical-align: top;\n",
              "    }\n",
              "\n",
              "    .dataframe thead th {\n",
              "        text-align: right;\n",
              "    }\n",
              "</style>\n",
              "<table border=\"1\" class=\"dataframe\">\n",
              "  <thead>\n",
              "    <tr style=\"text-align: right;\">\n",
              "      <th></th>\n",
              "      <th>Id</th>\n",
              "      <th>Store</th>\n",
              "      <th>DayOfWeek</th>\n",
              "      <th>Date</th>\n",
              "      <th>Open</th>\n",
              "      <th>Promo</th>\n",
              "      <th>StateHoliday</th>\n",
              "      <th>SchoolHoliday</th>\n",
              "    </tr>\n",
              "  </thead>\n",
              "  <tbody>\n",
              "    <tr>\n",
              "      <th>0</th>\n",
              "      <td>1</td>\n",
              "      <td>1</td>\n",
              "      <td>4</td>\n",
              "      <td>2015-09-17</td>\n",
              "      <td>1.000000</td>\n",
              "      <td>1</td>\n",
              "      <td>0</td>\n",
              "      <td>0</td>\n",
              "    </tr>\n",
              "    <tr>\n",
              "      <th>1</th>\n",
              "      <td>2</td>\n",
              "      <td>3</td>\n",
              "      <td>4</td>\n",
              "      <td>2015-09-17</td>\n",
              "      <td>1.000000</td>\n",
              "      <td>1</td>\n",
              "      <td>0</td>\n",
              "      <td>0</td>\n",
              "    </tr>\n",
              "    <tr>\n",
              "      <th>2</th>\n",
              "      <td>3</td>\n",
              "      <td>7</td>\n",
              "      <td>4</td>\n",
              "      <td>2015-09-17</td>\n",
              "      <td>1.000000</td>\n",
              "      <td>1</td>\n",
              "      <td>0</td>\n",
              "      <td>0</td>\n",
              "    </tr>\n",
              "    <tr>\n",
              "      <th>3</th>\n",
              "      <td>4</td>\n",
              "      <td>8</td>\n",
              "      <td>4</td>\n",
              "      <td>2015-09-17</td>\n",
              "      <td>1.000000</td>\n",
              "      <td>1</td>\n",
              "      <td>0</td>\n",
              "      <td>0</td>\n",
              "    </tr>\n",
              "    <tr>\n",
              "      <th>4</th>\n",
              "      <td>5</td>\n",
              "      <td>9</td>\n",
              "      <td>4</td>\n",
              "      <td>2015-09-17</td>\n",
              "      <td>1.000000</td>\n",
              "      <td>1</td>\n",
              "      <td>0</td>\n",
              "      <td>0</td>\n",
              "    </tr>\n",
              "  </tbody>\n",
              "</table>\n",
              "</div>"
            ],
            "text/plain": [
              "   Id  Store  DayOfWeek        Date     Open  Promo StateHoliday  SchoolHoliday\n",
              "0   1      1          4  2015-09-17 1.000000      1            0              0\n",
              "1   2      3          4  2015-09-17 1.000000      1            0              0\n",
              "2   3      7          4  2015-09-17 1.000000      1            0              0\n",
              "3   4      8          4  2015-09-17 1.000000      1            0              0\n",
              "4   5      9          4  2015-09-17 1.000000      1            0              0"
            ]
          },
          "metadata": {
            "tags": []
          },
          "execution_count": 10
        }
      ]
    },
    {
      "cell_type": "markdown",
      "metadata": {
        "id": "ImssU7LPPuNp"
      },
      "source": [
        "**Diccionario de la base de datos**\n",
        "* **Assortment - Surtido**: describe un nivel de surtido: a = básico, b = extra, c = extendido\n",
        "* **CompetitionDistance** - distancia en metros hasta la tienda competidora más cercana\n",
        "* **CompetitionOpenSince [Month / Year]**: proporciona el año y el mes aproximados del momento en que se abrió el competidor más cercano.\n",
        "* **Customers**: el número de clientes en un día determinado.\n",
        "* **Id**: un Id que representa un dúplex (Store, Date) dentro del conjunto de prueba\n",
        "* **Open**: un indicador de si la tienda estaba abierta: 0 = cerrada, 1 = abierta\n",
        "* **Promo**: indica si una tienda está ejecutando una promoción ese día.\n",
        "* **Promo2**: Promo2 es una promoción continua y consecutiva para algunas tiendas: 0 = la tienda no participa, 1 = la tienda participa\n",
        "* **Promo2Since [Year / Week]**: describe el año y la semana calendario en que la tienda comenzó a participar en Promo2.\n",
        "* **PromoInterval**: describe los intervalos consecutivos en que se inicia Promo2 , nombrando los meses en que la promoción se inicia de nuevo. Por ejemplo, \"febrero, mayo, agosto, noviembre\" significa que cada ronda comienza en febrero, mayo, agosto, noviembre de cualquier año para esa tienda.\n",
        "* **Sales**: el volumen de ventas de un día determinado (esto es lo que está prediciendo)\n",
        "* **SchoolHoliday**: indica si el (Store, Date) se vio afectado por el cierre de las escuelas públicas\n",
        "* **StateHoliday**: indica un feriado estatal. Normalmente, todas las tiendas, con pocas excepciones, están cerradas los días festivos estatales. Tenga en cuenta que todas las escuelas están cerradas los días festivos y fines de semana. a = festivo, b = festivo de Pascua, c = Navidad, 0 = Ninguno\n",
        "* **Store**: una identificación única para cada tienda\n",
        "* **StoreType**: diferencia entre 4 modelos de tienda diferentes: a, b, c, d\n"
      ]
    },
    {
      "cell_type": "markdown",
      "metadata": {
        "id": "Df_RVBhtRWGZ"
      },
      "source": [
        "# **3. Análisis exploratorio de datos (EDA)**"
      ]
    },
    {
      "cell_type": "markdown",
      "metadata": {
        "id": "bHrusV0yUJ_R"
      },
      "source": [
        "**Naturaleza de las variables**"
      ]
    },
    {
      "cell_type": "code",
      "metadata": {
        "colab": {
          "base_uri": "https://localhost:8080/"
        },
        "id": "EoHZj8MvUNs-",
        "outputId": "1d60e603-4d6b-4521-9e5c-02b7506f7580"
      },
      "source": [
        "train.info()"
      ],
      "execution_count": 11,
      "outputs": [
        {
          "output_type": "stream",
          "text": [
            "<class 'pandas.core.frame.DataFrame'>\n",
            "RangeIndex: 1017209 entries, 0 to 1017208\n",
            "Data columns (total 9 columns):\n",
            " #   Column         Non-Null Count    Dtype \n",
            "---  ------         --------------    ----- \n",
            " 0   Store          1017209 non-null  int64 \n",
            " 1   DayOfWeek      1017209 non-null  int64 \n",
            " 2   Date           1017209 non-null  object\n",
            " 3   Sales          1017209 non-null  int64 \n",
            " 4   Customers      1017209 non-null  int64 \n",
            " 5   Open           1017209 non-null  int64 \n",
            " 6   Promo          1017209 non-null  int64 \n",
            " 7   StateHoliday   1017209 non-null  object\n",
            " 8   SchoolHoliday  1017209 non-null  int64 \n",
            "dtypes: int64(7), object(2)\n",
            "memory usage: 69.8+ MB\n"
          ],
          "name": "stdout"
        }
      ]
    },
    {
      "cell_type": "code",
      "metadata": {
        "colab": {
          "base_uri": "https://localhost:8080/"
        },
        "id": "trinIUOKB30M",
        "outputId": "9a6a5ce5-7151-4af7-b1c8-ec2910672491"
      },
      "source": [
        "train_NA.info()"
      ],
      "execution_count": 12,
      "outputs": [
        {
          "output_type": "stream",
          "text": [
            "<class 'pandas.core.frame.DataFrame'>\n",
            "RangeIndex: 1017209 entries, 0 to 1017208\n",
            "Data columns (total 9 columns):\n",
            " #   Column         Non-Null Count    Dtype  \n",
            "---  ------         --------------    -----  \n",
            " 0   Store          1017209 non-null  int64  \n",
            " 1   DayOfWeek      1017209 non-null  int64  \n",
            " 2   Date           1017209 non-null  object \n",
            " 3   Sales          1017168 non-null  float64\n",
            " 4   Customers      1017209 non-null  int64  \n",
            " 5   Open           1017209 non-null  int64  \n",
            " 6   Promo          1017209 non-null  int64  \n",
            " 7   StateHoliday   1017209 non-null  object \n",
            " 8   SchoolHoliday  1017209 non-null  int64  \n",
            "dtypes: float64(1), int64(6), object(2)\n",
            "memory usage: 69.8+ MB\n"
          ],
          "name": "stdout"
        }
      ]
    },
    {
      "cell_type": "markdown",
      "metadata": {
        "id": "PeOT7gdGUU3R"
      },
      "source": [
        "**Recodificar la naturaleza de los datos**\n",
        "Se revisan los datos y se cambia el tipo de datos a los que se requiera\n",
        "* **Store:** texto\n",
        "* **DayOfWeek:** texto\n",
        "* **Date:** fecha\n",
        "* **Sales:** numérico\n",
        "* **Customers:** numérico\n",
        "* **Open:** categórico\n",
        "* **Promo:** categórico\n",
        "* **StateHoliday:** categórico \n",
        "* **SchoolHoliday:** categórico\n"
      ]
    },
    {
      "cell_type": "code",
      "metadata": {
        "colab": {
          "base_uri": "https://localhost:8080/"
        },
        "id": "mK5PgqxfDfuZ",
        "outputId": "fbde8ada-f22f-475a-b50e-a2888a691e9f"
      },
      "source": [
        "#Nombre de las variables\n",
        "train.columns"
      ],
      "execution_count": 13,
      "outputs": [
        {
          "output_type": "execute_result",
          "data": {
            "text/plain": [
              "Index(['Store', 'DayOfWeek', 'Date', 'Sales', 'Customers', 'Open', 'Promo',\n",
              "       'StateHoliday', 'SchoolHoliday'],\n",
              "      dtype='object')"
            ]
          },
          "metadata": {
            "tags": []
          },
          "execution_count": 13
        }
      ]
    },
    {
      "cell_type": "code",
      "metadata": {
        "id": "sTF49_DfU1jn"
      },
      "source": [
        "train[[\"Store\",\"DayOfWeek\"]]=train[[\"Store\",\"DayOfWeek\"]].astype(\"str\")"
      ],
      "execution_count": 14,
      "outputs": []
    },
    {
      "cell_type": "code",
      "metadata": {
        "id": "-81VxHTc6MLF"
      },
      "source": [
        "train[\"Date\"]=train[\"Date\"].astype('datetime64[ns]')"
      ],
      "execution_count": 15,
      "outputs": []
    },
    {
      "cell_type": "code",
      "metadata": {
        "id": "aHIMoFDF892_"
      },
      "source": [
        "train[[\"Open\",\"Promo\",\"StateHoliday\",\"SchoolHoliday\"]]=train[[\"Open\",\"Promo\",\"StateHoliday\",\"SchoolHoliday\"]].astype('category')"
      ],
      "execution_count": 16,
      "outputs": []
    },
    {
      "cell_type": "code",
      "metadata": {
        "id": "2jbMzQVUDtBE"
      },
      "source": [
        "train_NA[\"Store\"]=train_NA[\"Store\"].astype(\"str\")"
      ],
      "execution_count": 17,
      "outputs": []
    },
    {
      "cell_type": "code",
      "metadata": {
        "id": "6eq0r2csDtIN"
      },
      "source": [
        "train_NA[\"Date\"]=train_NA[\"Date\"].astype('datetime64[ns]')"
      ],
      "execution_count": 18,
      "outputs": []
    },
    {
      "cell_type": "code",
      "metadata": {
        "id": "v6Isql8yDtPR"
      },
      "source": [
        "train_NA[[\"Open\",\"Promo\",\"StateHoliday\",\"SchoolHoliday\"]]=train_NA[[\"Open\",\"Promo\",\"StateHoliday\",\"SchoolHoliday\"]].astype('category')"
      ],
      "execution_count": 19,
      "outputs": []
    },
    {
      "cell_type": "code",
      "metadata": {
        "id": "yUwnbZ8VEAM_"
      },
      "source": [
        "train_NA[\"Sales\"]=train_NA[\"Sales\"].astype('Int64')"
      ],
      "execution_count": 20,
      "outputs": []
    },
    {
      "cell_type": "markdown",
      "metadata": {
        "id": "NNMP92A492u_"
      },
      "source": [
        "**Datos perdidos**"
      ]
    },
    {
      "cell_type": "code",
      "metadata": {
        "colab": {
          "base_uri": "https://localhost:8080/"
        },
        "id": "Da9IqZY598uX",
        "outputId": "2e0867d7-ae52-4c95-820c-901ca56a89c8"
      },
      "source": [
        "#El comando pd.options.display.max_rows=20 se utiliza en caso de que la funión train.isnull().sum() no nos muestre todas las variables\n",
        "#En el agumento .max_rows=20 se le puede poner el número e acuerdo a las filas que se requiran ver\n",
        "pd.options.display.max_rows=20\n",
        "train.isnull().sum()"
      ],
      "execution_count": 21,
      "outputs": [
        {
          "output_type": "execute_result",
          "data": {
            "text/plain": [
              "Store            0\n",
              "DayOfWeek        0\n",
              "Date             0\n",
              "Sales            0\n",
              "Customers        0\n",
              "Open             0\n",
              "Promo            0\n",
              "StateHoliday     0\n",
              "SchoolHoliday    0\n",
              "dtype: int64"
            ]
          },
          "metadata": {
            "tags": []
          },
          "execution_count": 21
        }
      ]
    },
    {
      "cell_type": "code",
      "metadata": {
        "colab": {
          "base_uri": "https://localhost:8080/"
        },
        "id": "R05txHaCEVoA",
        "outputId": "351e1ca2-0bf6-4c1f-e23a-934c825ffe10"
      },
      "source": [
        "train_NA.isnull().sum()"
      ],
      "execution_count": 22,
      "outputs": [
        {
          "output_type": "execute_result",
          "data": {
            "text/plain": [
              "Store             0\n",
              "DayOfWeek         0\n",
              "Date              0\n",
              "Sales            41\n",
              "Customers         0\n",
              "Open              0\n",
              "Promo             0\n",
              "StateHoliday      0\n",
              "SchoolHoliday     0\n",
              "dtype: int64"
            ]
          },
          "metadata": {
            "tags": []
          },
          "execution_count": 22
        }
      ]
    },
    {
      "cell_type": "code",
      "metadata": {
        "colab": {
          "base_uri": "https://localhost:8080/"
        },
        "id": "vKIl9sjC-DKt",
        "outputId": "2f1b8be6-f397-4843-c11f-3ece34cf7ccc"
      },
      "source": [
        "#Porcentaje de datos perdidos\n",
        "train.isnull().sum()/len(train)"
      ],
      "execution_count": 23,
      "outputs": [
        {
          "output_type": "execute_result",
          "data": {
            "text/plain": [
              "Store           0.000000\n",
              "DayOfWeek       0.000000\n",
              "Date            0.000000\n",
              "Sales           0.000000\n",
              "Customers       0.000000\n",
              "Open            0.000000\n",
              "Promo           0.000000\n",
              "StateHoliday    0.000000\n",
              "SchoolHoliday   0.000000\n",
              "dtype: float64"
            ]
          },
          "metadata": {
            "tags": []
          },
          "execution_count": 23
        }
      ]
    },
    {
      "cell_type": "code",
      "metadata": {
        "colab": {
          "base_uri": "https://localhost:8080/"
        },
        "id": "kG7hWx_zEZLS",
        "outputId": "5149ea43-0dd0-4d69-8929-53e71750f5c3"
      },
      "source": [
        "(train_NA.isnull().sum()/len(train_NA))*100"
      ],
      "execution_count": 24,
      "outputs": [
        {
          "output_type": "execute_result",
          "data": {
            "text/plain": [
              "Store           0.000000\n",
              "DayOfWeek       0.000000\n",
              "Date            0.000000\n",
              "Sales           0.004031\n",
              "Customers       0.000000\n",
              "Open            0.000000\n",
              "Promo           0.000000\n",
              "StateHoliday    0.000000\n",
              "SchoolHoliday   0.000000\n",
              "dtype: float64"
            ]
          },
          "metadata": {
            "tags": []
          },
          "execution_count": 24
        }
      ]
    },
    {
      "cell_type": "markdown",
      "metadata": {
        "id": "-Vvjo0lXAMlD"
      },
      "source": [
        "**1. Cuando la cantidad de datos perdidos en una variable sea superior al 50% del total de la data, esa variable se debe eliminar.**\n",
        "* El comando **train=train.drop([\"var1\",\"var2\",\"var3\",\"var4\"],axis=1)** nos permite eliminar las variables que cumplan con la condición 1\n",
        "\n",
        "**2. Cuando a data perdida o N/A sea bajo < 30%, puedo imputarlo, alguna de las técnicas consiste en utilizar el promedio o la mediana de los datos**"
      ]
    },
    {
      "cell_type": "markdown",
      "metadata": {
        "id": "8WH46-BBE9P_"
      },
      "source": [
        "**Como el % de datos perdidos n la variable Sales es menor que el 30% del total de los datos, vamos a imputar de 2 formas, una eliminando los NA y la otra a través de la estadística descriptiva**"
      ]
    },
    {
      "cell_type": "markdown",
      "metadata": {
        "id": "mKtBt5LCFiUK"
      },
      "source": [
        "##**Vamos a eliminar los NA**"
      ]
    },
    {
      "cell_type": "code",
      "metadata": {
        "id": "MQJeOPuLFqOm"
      },
      "source": [
        "train_sin_na=train_NA.dropna()"
      ],
      "execution_count": 122,
      "outputs": []
    },
    {
      "cell_type": "code",
      "metadata": {
        "colab": {
          "base_uri": "https://localhost:8080/"
        },
        "id": "_SV9sRxmGiNs",
        "outputId": "b5b3dcfb-21a0-4ca4-a09c-a6454da28184"
      },
      "source": [
        "# Verificamos la cantidad de NA que quedaron después de eliminar\n",
        "train_sin_na.isnull().sum()"
      ],
      "execution_count": 123,
      "outputs": [
        {
          "output_type": "execute_result",
          "data": {
            "text/plain": [
              "Store            0\n",
              "DayOfWeek        0\n",
              "Date             0\n",
              "Sales            0\n",
              "Customers        0\n",
              "Open             0\n",
              "Promo            0\n",
              "StateHoliday     0\n",
              "SchoolHoliday    0\n",
              "dtype: int64"
            ]
          },
          "metadata": {
            "tags": []
          },
          "execution_count": 123
        }
      ]
    },
    {
      "cell_type": "code",
      "metadata": {
        "colab": {
          "base_uri": "https://localhost:8080/"
        },
        "id": "2I1aAIiNGb3q",
        "outputId": "61dfcc51-25a9-4f63-debb-786bd28e7b22"
      },
      "source": [
        "# Verificamos el % de NA que quedaron después de eliminar\n",
        "(train_sin_na.isnull().sum()/len(train_NA))*100"
      ],
      "execution_count": 124,
      "outputs": [
        {
          "output_type": "execute_result",
          "data": {
            "text/plain": [
              "Store           0.000000\n",
              "DayOfWeek       0.000000\n",
              "Date            0.000000\n",
              "Sales           0.000000\n",
              "Customers       0.000000\n",
              "Open            0.000000\n",
              "Promo           0.000000\n",
              "StateHoliday    0.000000\n",
              "SchoolHoliday   0.000000\n",
              "dtype: float64"
            ]
          },
          "metadata": {
            "tags": []
          },
          "execution_count": 124
        }
      ]
    },
    {
      "cell_type": "code",
      "metadata": {
        "colab": {
          "base_uri": "https://localhost:8080/"
        },
        "id": "3JbBe_JKG2X8",
        "outputId": "96572ad8-1728-4e20-d262-5e442d71f767"
      },
      "source": [
        "len(train_NA)"
      ],
      "execution_count": 125,
      "outputs": [
        {
          "output_type": "execute_result",
          "data": {
            "text/plain": [
              "1017209"
            ]
          },
          "metadata": {
            "tags": []
          },
          "execution_count": 125
        }
      ]
    },
    {
      "cell_type": "code",
      "metadata": {
        "colab": {
          "base_uri": "https://localhost:8080/"
        },
        "id": "xJNd9FkoHMWU",
        "outputId": "2c15208e-50ab-464a-8383-4faa0bf0f22c"
      },
      "source": [
        "len(train_sin_na)"
      ],
      "execution_count": 126,
      "outputs": [
        {
          "output_type": "execute_result",
          "data": {
            "text/plain": [
              "1017209"
            ]
          },
          "metadata": {
            "tags": []
          },
          "execution_count": 126
        }
      ]
    },
    {
      "cell_type": "code",
      "metadata": {
        "colab": {
          "base_uri": "https://localhost:8080/"
        },
        "id": "Bs-3y-4FHSOU",
        "outputId": "cd23f914-8c34-43f9-9e59-a4589b4bd9dd"
      },
      "source": [
        "#Cantidad de NA eliminados\n",
        "len(train_NA)-len(train_sin_na)"
      ],
      "execution_count": 127,
      "outputs": [
        {
          "output_type": "execute_result",
          "data": {
            "text/plain": [
              "0"
            ]
          },
          "metadata": {
            "tags": []
          },
          "execution_count": 127
        }
      ]
    },
    {
      "cell_type": "code",
      "metadata": {
        "colab": {
          "base_uri": "https://localhost:8080/"
        },
        "id": "PV9xHifhGrEs",
        "outputId": "4f1cc48a-9950-44fa-d72a-5f19282d0abd"
      },
      "source": [
        "# %de NA eliminados (no puede ser > 30%)\n",
        "(len(train_NA)-len(train_sin_na))/len(train_NA)*100"
      ],
      "execution_count": 128,
      "outputs": [
        {
          "output_type": "execute_result",
          "data": {
            "text/plain": [
              "0.0"
            ]
          },
          "metadata": {
            "tags": []
          },
          "execution_count": 128
        }
      ]
    },
    {
      "cell_type": "markdown",
      "metadata": {
        "id": "jpBuuyVjH-L8"
      },
      "source": [
        "**Imputar con estadística descriptiva**"
      ]
    },
    {
      "cell_type": "markdown",
      "metadata": {
        "id": "7oI_fv9vIova"
      },
      "source": [
        "**Imputar la variable Sales**"
      ]
    },
    {
      "cell_type": "code",
      "metadata": {
        "id": "Ts19HuDoglIK"
      },
      "source": [
        "ventas_tienda_abierta = train_sin_na[train_sin_na[\"Open\"]==1]"
      ],
      "execution_count": 129,
      "outputs": []
    },
    {
      "cell_type": "code",
      "metadata": {
        "id": "lpptfj-jLZfa"
      },
      "source": [
        "Ventas = ventas_tienda_abierta[\"Sales\"]"
      ],
      "execution_count": 130,
      "outputs": []
    },
    {
      "cell_type": "code",
      "metadata": {
        "colab": {
          "base_uri": "https://localhost:8080/"
        },
        "id": "9kFQKczDGew4",
        "outputId": "abe1eec8-4434-498a-af2a-4035eddb4324"
      },
      "source": [
        "Ventas"
      ],
      "execution_count": 131,
      "outputs": [
        {
          "output_type": "execute_result",
          "data": {
            "text/plain": [
              "1          6064.000000\n",
              "2          8314.000000\n",
              "3         13995.000000\n",
              "4          4822.000000\n",
              "5          5651.000000\n",
              "              ...     \n",
              "1016776    3375.000000\n",
              "1016827   10765.000000\n",
              "1016863    5035.000000\n",
              "1017042    4491.000000\n",
              "1017190    5961.000000\n",
              "Name: Sales, Length: 844392, dtype: float64"
            ]
          },
          "metadata": {
            "tags": []
          },
          "execution_count": 131
        }
      ]
    },
    {
      "cell_type": "code",
      "metadata": {
        "colab": {
          "base_uri": "https://localhost:8080/"
        },
        "id": "PiKHoULOLpIr",
        "outputId": "ee43e827-c488-4d0e-f7e8-d4a0740c2c44"
      },
      "source": [
        "len(Ventas)"
      ],
      "execution_count": 132,
      "outputs": [
        {
          "output_type": "execute_result",
          "data": {
            "text/plain": [
              "844392"
            ]
          },
          "metadata": {
            "tags": []
          },
          "execution_count": 132
        }
      ]
    },
    {
      "cell_type": "markdown",
      "metadata": {
        "id": "IF5uY2fTL-fG"
      },
      "source": [
        "**Distribución de los datos**"
      ]
    },
    {
      "cell_type": "markdown",
      "metadata": {
        "id": "UgUA-ifQMFMN"
      },
      "source": [
        "**Histográma**"
      ]
    },
    {
      "cell_type": "code",
      "metadata": {
        "id": "5ovDXVE0L1Ks"
      },
      "source": [
        "promedio_con_atipicos = np.mean(Ventas) "
      ],
      "execution_count": 133,
      "outputs": []
    },
    {
      "cell_type": "code",
      "metadata": {
        "colab": {
          "base_uri": "https://localhost:8080/"
        },
        "id": "N2vu9LK1Ayew",
        "outputId": "9931c2c8-af78-4576-c8f3-df2448a6ee71"
      },
      "source": [
        "promedio_con_atipicos"
      ],
      "execution_count": 134,
      "outputs": [
        {
          "output_type": "execute_result",
          "data": {
            "text/plain": [
              "6955.5849199704935"
            ]
          },
          "metadata": {
            "tags": []
          },
          "execution_count": 134
        }
      ]
    },
    {
      "cell_type": "code",
      "metadata": {
        "id": "ujF2W5b2MRzR",
        "colab": {
          "base_uri": "https://localhost:8080/",
          "height": 405
        },
        "outputId": "2ae7bca9-6866-4337-a821-99295a27ad2a"
      },
      "source": [
        "plt.figure(figsize=(10,6))\n",
        "plt.hist(Ventas,facecolor=\"black\")\n",
        "plt.xlabel(\"VENTAS\")\n",
        "plt.show"
      ],
      "execution_count": 135,
      "outputs": [
        {
          "output_type": "execute_result",
          "data": {
            "text/plain": [
              "<function matplotlib.pyplot.show>"
            ]
          },
          "metadata": {
            "tags": []
          },
          "execution_count": 135
        },
        {
          "output_type": "display_data",
          "data": {
            "image/png": "[encoded data removed]",
            "text/plain": [
              "<Figure size 720x432 with 1 Axes>"
            ]
          },
          "metadata": {
            "tags": [],
            "needs_background": "light"
          }
        }
      ]
    },
    {
      "cell_type": "markdown",
      "metadata": {
        "id": "KVKYpvWwOILi"
      },
      "source": [
        "##**Identificar datos atípicos**"
      ]
    },
    {
      "cell_type": "markdown",
      "metadata": {
        "id": "z7ooX2mZOI7A"
      },
      "source": [
        "**Manera visual: Boxplot**"
      ]
    },
    {
      "cell_type": "code",
      "metadata": {
        "id": "ATo8YQF9NxDL",
        "colab": {
          "base_uri": "https://localhost:8080/"
        },
        "outputId": "3923a0a5-15c8-4f84-87a2-39d33376da07"
      },
      "source": [
        "Ventas.describe()"
      ],
      "execution_count": 39,
      "outputs": [
        {
          "output_type": "execute_result",
          "data": {
            "text/plain": [
              "count   844351.000000\n",
              "mean      6955.590101\n",
              "std       3104.243795\n",
              "min          0.000000\n",
              "25%       4859.000000\n",
              "50%       6369.000000\n",
              "75%       8360.000000\n",
              "max      41551.000000\n",
              "Name: Sales, dtype: float64"
            ]
          },
          "metadata": {
            "tags": []
          },
          "execution_count": 39
        }
      ]
    },
    {
      "cell_type": "code",
      "metadata": {
        "id": "Mw-QCSdcOb1b",
        "colab": {
          "base_uri": "https://localhost:8080/",
          "height": 297
        },
        "outputId": "d891576d-b45d-4e31-db75-11a93cf0b260"
      },
      "source": [
        "sns.boxplot(x=Ventas,color=\"black\")"
      ],
      "execution_count": 40,
      "outputs": [
        {
          "output_type": "execute_result",
          "data": {
            "text/plain": [
              "<matplotlib.axes._subplots.AxesSubplot at 0x7f9f1a11fcd0>"
            ]
          },
          "metadata": {
            "tags": []
          },
          "execution_count": 40
        },
        {
          "output_type": "display_data",
          "data": {
            "image/png": "[encoded data removed]",
            "text/plain": [
              "<Figure size 432x288 with 1 Axes>"
            ]
          },
          "metadata": {
            "tags": [],
            "needs_background": "light"
          }
        }
      ]
    },
    {
      "cell_type": "markdown",
      "metadata": {
        "id": "dsV6j9zrQZCQ"
      },
      "source": [
        "**Método del rargo intercuantil**"
      ]
    },
    {
      "cell_type": "code",
      "metadata": {
        "id": "rHi_KjL3P_TC",
        "colab": {
          "base_uri": "https://localhost:8080/"
        },
        "outputId": "1e7cd7a6-a79b-4c39-9e10-200069fba9c2"
      },
      "source": [
        "q1,q3=np.percentile(Ventas,[25,75])\n",
        "print(q1)\n",
        "print(q3)"
      ],
      "execution_count": 41,
      "outputs": [
        {
          "output_type": "stream",
          "text": [
            "4859.0\n",
            "8360.0\n"
          ],
          "name": "stdout"
        }
      ]
    },
    {
      "cell_type": "markdown",
      "metadata": {
        "id": "lFN9josiQ5Xx"
      },
      "source": [
        "**Calcular los límites**"
      ]
    },
    {
      "cell_type": "code",
      "metadata": {
        "id": "D37cShYaQsZ3",
        "colab": {
          "base_uri": "https://localhost:8080/"
        },
        "outputId": "627f1b67-1098-4680-d7b2-c77f01632429"
      },
      "source": [
        "#Rango intercuantil\n",
        "RIC = (q3-q1)\n",
        "print(RIC)"
      ],
      "execution_count": 42,
      "outputs": [
        {
          "output_type": "stream",
          "text": [
            "3501.0\n"
          ],
          "name": "stdout"
        }
      ]
    },
    {
      "cell_type": "code",
      "metadata": {
        "id": "UvjhUqCwRDHJ",
        "colab": {
          "base_uri": "https://localhost:8080/"
        },
        "outputId": "d432ef70-9955-4984-d82a-9c63e8d3f73f"
      },
      "source": [
        "Limite_Sup = round(q3+(1.5*RIC))\n",
        "print(Limite_Sup)"
      ],
      "execution_count": 43,
      "outputs": [
        {
          "output_type": "stream",
          "text": [
            "13612\n"
          ],
          "name": "stdout"
        }
      ]
    },
    {
      "cell_type": "code",
      "metadata": {
        "id": "_JNHbkJkROTZ",
        "colab": {
          "base_uri": "https://localhost:8080/"
        },
        "outputId": "be25a329-fd46-4885-d131-00054fd78d53"
      },
      "source": [
        "Limite_Inf = q1-(1.5*RIC)\n",
        "print(Limite_Inf)"
      ],
      "execution_count": 44,
      "outputs": [
        {
          "output_type": "stream",
          "text": [
            "-392.5\n"
          ],
          "name": "stdout"
        }
      ]
    },
    {
      "cell_type": "markdown",
      "metadata": {
        "id": "zZ0UPAXMRsls"
      },
      "source": [
        "**Graficar los puntos atípicos**"
      ]
    },
    {
      "cell_type": "code",
      "metadata": {
        "id": "6iHUeOKfRbFw",
        "colab": {
          "base_uri": "https://localhost:8080/",
          "height": 265
        },
        "outputId": "f416eaa4-1649-4898-9ef9-d6b316152e60"
      },
      "source": [
        "plt.plot(list(Ventas),\".\",color=\"darkgreen\")\n",
        "plt.axhline(y=Limite_Inf,color=\"red\",linestyle=\"-\")\n",
        "plt.axhline(y=Limite_Sup,color=\"red\",linestyle=\"-\")\n",
        "plt.show()"
      ],
      "execution_count": 45,
      "outputs": [
        {
          "output_type": "display_data",
          "data": {
            "image/png": "[encoded data removed]",
            "text/plain": [
              "<Figure size 432x288 with 1 Axes>"
            ]
          },
          "metadata": {
            "tags": [],
            "needs_background": "light"
          }
        }
      ]
    },
    {
      "cell_type": "markdown",
      "metadata": {
        "id": "tb6f1aOmaMDQ"
      },
      "source": [
        "**Excluimos los datos atípicos**"
      ]
    },
    {
      "cell_type": "code",
      "metadata": {
        "id": "4raPCkT1XddH"
      },
      "source": [
        "train_sin_ventas_atipicas = train_sin_na[(train_sin_na[\"Sales\"]<Limite_Sup) & (train_sin_na[\"Sales\"]>Limite_Inf) & train_sin_na[\"Open\"]==1] "
      ],
      "execution_count": 46,
      "outputs": []
    },
    {
      "cell_type": "code",
      "metadata": {
        "id": "aBaWP5oHbQyy",
        "colab": {
          "base_uri": "https://localhost:8080/",
          "height": 206
        },
        "outputId": "7822ae51-2415-444f-d916-36f930e483dd"
      },
      "source": [
        "train_sin_ventas_atipicas.head()"
      ],
      "execution_count": 47,
      "outputs": [
        {
          "output_type": "execute_result",
          "data": {
            "text/html": [
              "<div>\n",
              "<style scoped>\n",
              "    .dataframe tbody tr th:only-of-type {\n",
              "        vertical-align: middle;\n",
              "    }\n",
              "\n",
              "    .dataframe tbody tr th {\n",
              "        vertical-align: top;\n",
              "    }\n",
              "\n",
              "    .dataframe thead th {\n",
              "        text-align: right;\n",
              "    }\n",
              "</style>\n",
              "<table border=\"1\" class=\"dataframe\">\n",
              "  <thead>\n",
              "    <tr style=\"text-align: right;\">\n",
              "      <th></th>\n",
              "      <th>Store</th>\n",
              "      <th>DayOfWeek</th>\n",
              "      <th>Date</th>\n",
              "      <th>Sales</th>\n",
              "      <th>Customers</th>\n",
              "      <th>Open</th>\n",
              "      <th>Promo</th>\n",
              "      <th>StateHoliday</th>\n",
              "      <th>SchoolHoliday</th>\n",
              "    </tr>\n",
              "  </thead>\n",
              "  <tbody>\n",
              "    <tr>\n",
              "      <th>1</th>\n",
              "      <td>2</td>\n",
              "      <td>5</td>\n",
              "      <td>2015-07-31</td>\n",
              "      <td>6064</td>\n",
              "      <td>625</td>\n",
              "      <td>1</td>\n",
              "      <td>1</td>\n",
              "      <td>0</td>\n",
              "      <td>1</td>\n",
              "    </tr>\n",
              "    <tr>\n",
              "      <th>2</th>\n",
              "      <td>3</td>\n",
              "      <td>5</td>\n",
              "      <td>2015-07-31</td>\n",
              "      <td>8314</td>\n",
              "      <td>821</td>\n",
              "      <td>1</td>\n",
              "      <td>1</td>\n",
              "      <td>0</td>\n",
              "      <td>1</td>\n",
              "    </tr>\n",
              "    <tr>\n",
              "      <th>4</th>\n",
              "      <td>5</td>\n",
              "      <td>5</td>\n",
              "      <td>2015-07-31</td>\n",
              "      <td>4822</td>\n",
              "      <td>559</td>\n",
              "      <td>1</td>\n",
              "      <td>1</td>\n",
              "      <td>0</td>\n",
              "      <td>1</td>\n",
              "    </tr>\n",
              "    <tr>\n",
              "      <th>5</th>\n",
              "      <td>6</td>\n",
              "      <td>5</td>\n",
              "      <td>2015-07-31</td>\n",
              "      <td>5651</td>\n",
              "      <td>589</td>\n",
              "      <td>1</td>\n",
              "      <td>1</td>\n",
              "      <td>0</td>\n",
              "      <td>1</td>\n",
              "    </tr>\n",
              "    <tr>\n",
              "      <th>7</th>\n",
              "      <td>8</td>\n",
              "      <td>5</td>\n",
              "      <td>2015-07-31</td>\n",
              "      <td>8492</td>\n",
              "      <td>833</td>\n",
              "      <td>1</td>\n",
              "      <td>1</td>\n",
              "      <td>0</td>\n",
              "      <td>1</td>\n",
              "    </tr>\n",
              "  </tbody>\n",
              "</table>\n",
              "</div>"
            ],
            "text/plain": [
              "  Store  DayOfWeek       Date  Sales  ...  Open Promo StateHoliday SchoolHoliday\n",
              "1     2          5 2015-07-31   6064  ...     1     1            0             1\n",
              "2     3          5 2015-07-31   8314  ...     1     1            0             1\n",
              "4     5          5 2015-07-31   4822  ...     1     1            0             1\n",
              "5     6          5 2015-07-31   5651  ...     1     1            0             1\n",
              "7     8          5 2015-07-31   8492  ...     1     1            0             1\n",
              "\n",
              "[5 rows x 9 columns]"
            ]
          },
          "metadata": {
            "tags": []
          },
          "execution_count": 47
        }
      ]
    },
    {
      "cell_type": "code",
      "metadata": {
        "colab": {
          "base_uri": "https://localhost:8080/"
        },
        "id": "zQIFZaIrNh8R",
        "outputId": "4b090af0-e383-47e8-bfd7-0f1403be906b"
      },
      "source": [
        "train_sin_ventas_atipicas.info()"
      ],
      "execution_count": 48,
      "outputs": [
        {
          "output_type": "stream",
          "text": [
            "<class 'pandas.core.frame.DataFrame'>\n",
            "Int64Index: 813582 entries, 1 to 1017190\n",
            "Data columns (total 9 columns):\n",
            " #   Column         Non-Null Count   Dtype         \n",
            "---  ------         --------------   -----         \n",
            " 0   Store          813582 non-null  object        \n",
            " 1   DayOfWeek      813582 non-null  int64         \n",
            " 2   Date           813582 non-null  datetime64[ns]\n",
            " 3   Sales          813582 non-null  Int64         \n",
            " 4   Customers      813582 non-null  int64         \n",
            " 5   Open           813582 non-null  category      \n",
            " 6   Promo          813582 non-null  category      \n",
            " 7   StateHoliday   813582 non-null  category      \n",
            " 8   SchoolHoliday  813582 non-null  category      \n",
            "dtypes: Int64(1), category(4), datetime64[ns](1), int64(2), object(1)\n",
            "memory usage: 41.1+ MB\n"
          ],
          "name": "stdout"
        }
      ]
    },
    {
      "cell_type": "code",
      "metadata": {
        "id": "Vab5z7NDbajb"
      },
      "source": [
        "Ventas_sin_atipicos = train_sin_ventas_atipicas[\"Sales\"]"
      ],
      "execution_count": 49,
      "outputs": []
    },
    {
      "cell_type": "code",
      "metadata": {
        "id": "qVL5K6A_b0rU",
        "colab": {
          "base_uri": "https://localhost:8080/"
        },
        "outputId": "11b19b1c-d5b1-474d-cde2-0b1f0f666f4d"
      },
      "source": [
        "Ventas_sin_atipicos.describe()"
      ],
      "execution_count": 50,
      "outputs": [
        {
          "output_type": "execute_result",
          "data": {
            "text/plain": [
              "count   813582.000000\n",
              "mean      6584.646317\n",
              "std       2421.534616\n",
              "min          0.000000\n",
              "25%       4802.000000\n",
              "50%       6253.000000\n",
              "75%       8080.000000\n",
              "max      13611.000000\n",
              "Name: Sales, dtype: float64"
            ]
          },
          "metadata": {
            "tags": []
          },
          "execution_count": 50
        }
      ]
    },
    {
      "cell_type": "code",
      "metadata": {
        "id": "_WP33BUpcCq8",
        "colab": {
          "base_uri": "https://localhost:8080/"
        },
        "outputId": "785375d8-8b2f-46b7-ac43-7929081fc218"
      },
      "source": [
        "Ventas.describe()"
      ],
      "execution_count": 51,
      "outputs": [
        {
          "output_type": "execute_result",
          "data": {
            "text/plain": [
              "count   844351.000000\n",
              "mean      6955.590101\n",
              "std       3104.243795\n",
              "min          0.000000\n",
              "25%       4859.000000\n",
              "50%       6369.000000\n",
              "75%       8360.000000\n",
              "max      41551.000000\n",
              "Name: Sales, dtype: float64"
            ]
          },
          "metadata": {
            "tags": []
          },
          "execution_count": 51
        }
      ]
    },
    {
      "cell_type": "code",
      "metadata": {
        "id": "EYL435lscGMb",
        "colab": {
          "base_uri": "https://localhost:8080/",
          "height": 351
        },
        "outputId": "8ac12462-02aa-4651-bea9-6be3df16cfab"
      },
      "source": [
        "plt.figure(figsize=(10,5))\n",
        "plt.hist(Ventas_sin_atipicos,facecolor=\"black\")\n",
        "plt.xlabel(\"VENTAS\")\n",
        "plt.show"
      ],
      "execution_count": 52,
      "outputs": [
        {
          "output_type": "execute_result",
          "data": {
            "text/plain": [
              "<function matplotlib.pyplot.show>"
            ]
          },
          "metadata": {
            "tags": []
          },
          "execution_count": 52
        },
        {
          "output_type": "display_data",
          "data": {
            "image/png": "[encoded data removed]",
            "text/plain": [
              "<Figure size 720x360 with 1 Axes>"
            ]
          },
          "metadata": {
            "tags": [],
            "needs_background": "light"
          }
        }
      ]
    },
    {
      "cell_type": "code",
      "metadata": {
        "id": "_j6jbnzQcZcz",
        "colab": {
          "base_uri": "https://localhost:8080/"
        },
        "outputId": "f4c49fbf-b4e0-44da-d01e-757d3d964f2a"
      },
      "source": [
        "promedio_con_atipicos"
      ],
      "execution_count": 53,
      "outputs": [
        {
          "output_type": "execute_result",
          "data": {
            "text/plain": [
              "6955.590100562444"
            ]
          },
          "metadata": {
            "tags": []
          },
          "execution_count": 53
        }
      ]
    },
    {
      "cell_type": "code",
      "metadata": {
        "id": "o--qpkjBdxB0"
      },
      "source": [
        "promedio_sin_atipicos = np.mean(Ventas_sin_atipicos)"
      ],
      "execution_count": 54,
      "outputs": []
    },
    {
      "cell_type": "code",
      "metadata": {
        "id": "M_EPK9IUeFNL",
        "colab": {
          "base_uri": "https://localhost:8080/"
        },
        "outputId": "af0093dd-6cbd-4a9f-e7cf-3b657f7125e7"
      },
      "source": [
        "promedio_sin_atipicos"
      ],
      "execution_count": 55,
      "outputs": [
        {
          "output_type": "execute_result",
          "data": {
            "text/plain": [
              "6584.646317150576"
            ]
          },
          "metadata": {
            "tags": []
          },
          "execution_count": 55
        }
      ]
    },
    {
      "cell_type": "code",
      "metadata": {
        "id": "CxEtGGi2eJT7",
        "colab": {
          "base_uri": "https://localhost:8080/",
          "height": 297
        },
        "outputId": "fd1363b4-6ae1-4392-987b-b88bf6b534e7"
      },
      "source": [
        "sns.boxplot(x=Ventas_sin_atipicos,color=\"black\")"
      ],
      "execution_count": 56,
      "outputs": [
        {
          "output_type": "execute_result",
          "data": {
            "text/plain": [
              "<matplotlib.axes._subplots.AxesSubplot at 0x7f9f1a304310>"
            ]
          },
          "metadata": {
            "tags": []
          },
          "execution_count": 56
        },
        {
          "output_type": "display_data",
          "data": {
            "image/png": "[encoded data removed]",
            "text/plain": [
              "<Figure size 432x288 with 1 Axes>"
            ]
          },
          "metadata": {
            "tags": [],
            "needs_background": "light"
          }
        }
      ]
    },
    {
      "cell_type": "code",
      "metadata": {
        "id": "8RSUQQHrei5w",
        "colab": {
          "base_uri": "https://localhost:8080/",
          "height": 265
        },
        "outputId": "92d00aa7-f721-4362-d6c8-5e753437b5bb"
      },
      "source": [
        "plt.plot(list(Ventas_sin_atipicos),\".\",color=\"darkgreen\")\n",
        "plt.axhline(y=Limite_Inf,color=\"red\",linestyle=\"-\")\n",
        "plt.axhline(y=Limite_Sup,color=\"red\",linestyle=\"-\")\n",
        "plt.show()"
      ],
      "execution_count": 57,
      "outputs": [
        {
          "output_type": "display_data",
          "data": {
            "image/png": "[encoded data removed]",
            "text/plain": [
              "<Figure size 432x288 with 1 Axes>"
            ]
          },
          "metadata": {
            "tags": [],
            "needs_background": "light"
          }
        }
      ]
    },
    {
      "cell_type": "markdown",
      "metadata": {
        "id": "c1H3bSX9f3GS"
      },
      "source": [
        "##**Validar normalidad**"
      ]
    },
    {
      "cell_type": "markdown",
      "metadata": {
        "id": "bCFGph-ef3Je"
      },
      "source": [
        "**Test gráfico de normalidad qq-plot**"
      ]
    },
    {
      "cell_type": "code",
      "metadata": {
        "id": "3JuFgDP2gCNY",
        "colab": {
          "base_uri": "https://localhost:8080/"
        },
        "outputId": "e9248017-660e-4e66-ce5a-e84f51618a80"
      },
      "source": [
        "from statsmodels.graphics.gofplots import qqplot"
      ],
      "execution_count": 58,
      "outputs": [
        {
          "output_type": "stream",
          "text": [
            "/usr/local/lib/python3.7/dist-packages/statsmodels/tools/_testing.py:19: FutureWarning: pandas.util.testing is deprecated. Use the functions in the public API at pandas.testing instead.\n",
            "  import pandas.util.testing as tm\n"
          ],
          "name": "stderr"
        }
      ]
    },
    {
      "cell_type": "code",
      "metadata": {
        "id": "TQVKEDJRklHe"
      },
      "source": [
        "#qqplot(Ventas_sin_atipicos,line=\"s\")"
      ],
      "execution_count": 59,
      "outputs": []
    },
    {
      "cell_type": "markdown",
      "metadata": {
        "id": "WEL4R4nYobWf"
      },
      "source": [
        "**Test de Normalidad estadística**"
      ]
    },
    {
      "cell_type": "code",
      "metadata": {
        "id": "83qDsXdUn6tQ"
      },
      "source": [
        "#stat, p= shapiro(Ventas_sin_atipicos)\n",
        "#p"
      ],
      "execution_count": 60,
      "outputs": []
    },
    {
      "cell_type": "code",
      "metadata": {
        "id": "hYrzDljKqO-P"
      },
      "source": [
        "#if (p <= 0.05):\n",
        "#  print(\"La variable no es normal\")\n",
        "#else:\n",
        "#  print(\"La variable es normal\")"
      ],
      "execution_count": 61,
      "outputs": []
    },
    {
      "cell_type": "markdown",
      "metadata": {
        "id": "-7InW_TsWRhI"
      },
      "source": [
        "**Test de promedio**"
      ]
    },
    {
      "cell_type": "code",
      "metadata": {
        "id": "867k6uDSWVBh"
      },
      "source": [
        "from scipy.stats import ttest_1samp"
      ],
      "execution_count": 62,
      "outputs": []
    },
    {
      "cell_type": "code",
      "metadata": {
        "colab": {
          "base_uri": "https://localhost:8080/"
        },
        "id": "He9lXfWlYuqH",
        "outputId": "92edb8ca-f7ad-42d7-cb66-cb6b13349c57"
      },
      "source": [
        "print(promedio_sin_atipicos)"
      ],
      "execution_count": 63,
      "outputs": [
        {
          "output_type": "stream",
          "text": [
            "6584.646317150576\n"
          ],
          "name": "stdout"
        }
      ]
    },
    {
      "cell_type": "code",
      "metadata": {
        "id": "Hx3e5XXGYzq4"
      },
      "source": [
        "test,pvalor= ttest_1samp(Ventas_sin_atipicos,promedio_sin_atipicos)"
      ],
      "execution_count": 64,
      "outputs": []
    },
    {
      "cell_type": "code",
      "metadata": {
        "colab": {
          "base_uri": "https://localhost:8080/"
        },
        "id": "8fdUflpwZEFw",
        "outputId": "55cc65fa-f98d-4641-bffe-1215dabd33d5"
      },
      "source": [
        "pvalor"
      ],
      "execution_count": 65,
      "outputs": [
        {
          "output_type": "execute_result",
          "data": {
            "text/plain": [
              "1.0"
            ]
          },
          "metadata": {
            "tags": []
          },
          "execution_count": 65
        }
      ]
    },
    {
      "cell_type": "code",
      "metadata": {
        "colab": {
          "base_uri": "https://localhost:8080/"
        },
        "id": "HPepMoWYZFnp",
        "outputId": "48cee176-f664-4c24-e9d4-2ab7077200e5"
      },
      "source": [
        "if (pvalor <= 0.05):\n",
        "  print(\"El promedio no es el aproximado al real\")\n",
        "else:\n",
        "  print(\"El promedio es el aproximado al real\")"
      ],
      "execution_count": 66,
      "outputs": [
        {
          "output_type": "stream",
          "text": [
            "El promedio es el aproximado al real\n"
          ],
          "name": "stdout"
        }
      ]
    },
    {
      "cell_type": "markdown",
      "metadata": {
        "id": "U90nHAdlZk3C"
      },
      "source": [
        "## Enfoque no paramétrico para calcular un parámetro poblacional"
      ]
    },
    {
      "cell_type": "markdown",
      "metadata": {
        "id": "_sl9zdaJaQpH"
      },
      "source": [
        "**Enfoque o paramétrico** en Python apenas se está implementando, se hace mejor en R"
      ]
    },
    {
      "cell_type": "markdown",
      "metadata": {
        "id": "gRKvgmCaagvK"
      },
      "source": [
        "**Remuestreo: Simulación computacional**"
      ]
    },
    {
      "cell_type": "code",
      "metadata": {
        "colab": {
          "base_uri": "https://localhost:8080/"
        },
        "id": "xjTDaBoEbi1J",
        "outputId": "caa7dfaa-0982-4ba2-80c6-248208db4584"
      },
      "source": [
        "promedio_sin_atipicos"
      ],
      "execution_count": 67,
      "outputs": [
        {
          "output_type": "execute_result",
          "data": {
            "text/plain": [
              "6584.646317150576"
            ]
          },
          "metadata": {
            "tags": []
          },
          "execution_count": 67
        }
      ]
    },
    {
      "cell_type": "code",
      "metadata": {
        "id": "-Wp2Juy9afIc"
      },
      "source": [
        "from random import sample\n",
        "import math"
      ],
      "execution_count": 68,
      "outputs": []
    },
    {
      "cell_type": "markdown",
      "metadata": {
        "id": "BrDbmSFBcBDI"
      },
      "source": [
        "**Seleccionamos muestra aleatoria**"
      ]
    },
    {
      "cell_type": "code",
      "metadata": {
        "id": "EjZlQIXFb8YJ"
      },
      "source": [
        "Muestra = Ventas.sample(n=1000,replace=False)"
      ],
      "execution_count": 69,
      "outputs": []
    },
    {
      "cell_type": "code",
      "metadata": {
        "colab": {
          "base_uri": "https://localhost:8080/"
        },
        "id": "z12qveQNcTeQ",
        "outputId": "92342d0d-c8eb-4d60-ad5b-86798281d250"
      },
      "source": [
        "len(Muestra)"
      ],
      "execution_count": 70,
      "outputs": [
        {
          "output_type": "execute_result",
          "data": {
            "text/plain": [
              "1000"
            ]
          },
          "metadata": {
            "tags": []
          },
          "execution_count": 70
        }
      ]
    },
    {
      "cell_type": "code",
      "metadata": {
        "colab": {
          "base_uri": "https://localhost:8080/",
          "height": 267
        },
        "id": "6tILn4yucVLo",
        "outputId": "3194453f-53ec-4be1-d474-e20d9a1321d7"
      },
      "source": [
        "plt.hist(Muestra)\n",
        "plt.show()"
      ],
      "execution_count": 71,
      "outputs": [
        {
          "output_type": "display_data",
          "data": {
            "image/png": "[encoded data removed]",
            "text/plain": [
              "<Figure size 432x288 with 1 Axes>"
            ]
          },
          "metadata": {
            "tags": [],
            "needs_background": "light"
          }
        }
      ]
    },
    {
      "cell_type": "markdown",
      "metadata": {
        "id": "Mm3IhLEsczUV"
      },
      "source": [
        "**Remuestreo**"
      ]
    },
    {
      "cell_type": "code",
      "metadata": {
        "id": "EaJN5hpVcscY"
      },
      "source": [
        "Muestra_Promedios = [] #Lista vacía"
      ],
      "execution_count": 72,
      "outputs": []
    },
    {
      "cell_type": "code",
      "metadata": {
        "id": "l0C_LA61dAmQ"
      },
      "source": [
        "for i in range(100000):\n",
        "  Muestra_N= Muestra.sample(n=500,replace=True)\n",
        "  Muestra_Promedios.append(Muestra_N.mean())"
      ],
      "execution_count": 73,
      "outputs": []
    },
    {
      "cell_type": "markdown",
      "metadata": {
        "id": "M8QFXoY1d7Ip"
      },
      "source": [
        "**Medias de medias remuestradas**"
      ]
    },
    {
      "cell_type": "code",
      "metadata": {
        "colab": {
          "base_uri": "https://localhost:8080/",
          "height": 265
        },
        "id": "ii1Ydacgeaqk",
        "outputId": "a924fa37-6344-403d-8602-ce6b6b30aba7"
      },
      "source": [
        "plt.hist(Muestra_Promedios)\n",
        "plt.show()"
      ],
      "execution_count": 74,
      "outputs": [
        {
          "output_type": "display_data",
          "data": {
            "image/png": "[encoded data removed]",
            "text/plain": [
              "<Figure size 432x288 with 1 Axes>"
            ]
          },
          "metadata": {
            "tags": [],
            "needs_background": "light"
          }
        }
      ]
    },
    {
      "cell_type": "code",
      "metadata": {
        "id": "AMyvdPROgB3Y"
      },
      "source": [
        "Muestra_Promedios1 = pd.Series(Muestra_Promedios)"
      ],
      "execution_count": 75,
      "outputs": []
    },
    {
      "cell_type": "code",
      "metadata": {
        "colab": {
          "base_uri": "https://localhost:8080/",
          "height": 541
        },
        "id": "uNH-28PigS94",
        "outputId": "b10f0fac-57b0-404f-82d2-f992aac94d92"
      },
      "source": [
        "qqplot(Muestra_Promedios1,line=\"s\")"
      ],
      "execution_count": 76,
      "outputs": [
        {
          "output_type": "execute_result",
          "data": {
            "image/png": "[encoded data removed]",
            "text/plain": [
              "<Figure size 432x288 with 1 Axes>"
            ]
          },
          "metadata": {
            "tags": []
          },
          "execution_count": 76
        },
        {
          "output_type": "display_data",
          "data": {
            "image/png": "[encoded data removed]",
            "text/plain": [
              "<Figure size 432x288 with 1 Axes>"
            ]
          },
          "metadata": {
            "tags": [],
            "needs_background": "light"
          }
        }
      ]
    },
    {
      "cell_type": "code",
      "metadata": {
        "colab": {
          "base_uri": "https://localhost:8080/"
        },
        "id": "wt654EQ6dFhw",
        "outputId": "5e29adf4-9436-463c-e62a-63fdd8b7a431"
      },
      "source": [
        "Promedio_Remuestreo = np.mean(Muestra_Promedios1)\n",
        "print(Promedio_Remuestreo)"
      ],
      "execution_count": 77,
      "outputs": [
        {
          "output_type": "stream",
          "text": [
            "6848.896188380021\n"
          ],
          "name": "stdout"
        }
      ]
    },
    {
      "cell_type": "code",
      "metadata": {
        "colab": {
          "base_uri": "https://localhost:8080/"
        },
        "id": "_NGlFyjegyAo",
        "outputId": "3e7a40a5-6651-4bf3-a92f-624c1c2331e1"
      },
      "source": [
        "promedio_sin_atipicos"
      ],
      "execution_count": 78,
      "outputs": [
        {
          "output_type": "execute_result",
          "data": {
            "text/plain": [
              "6584.646317150576"
            ]
          },
          "metadata": {
            "tags": []
          },
          "execution_count": 78
        }
      ]
    },
    {
      "cell_type": "code",
      "metadata": {
        "id": "u0Y6qgwbhbA4"
      },
      "source": [
        "ventas_tienda_abierta = train[train[\"Open\"]==1]"
      ],
      "execution_count": 79,
      "outputs": []
    },
    {
      "cell_type": "code",
      "metadata": {
        "id": "VCeGljJSjMSJ"
      },
      "source": [
        "ventas_train = ventas_tienda_abierta[\"Sales\"]"
      ],
      "execution_count": 80,
      "outputs": []
    },
    {
      "cell_type": "code",
      "metadata": {
        "colab": {
          "base_uri": "https://localhost:8080/"
        },
        "id": "KW9EmI-QiFTS",
        "outputId": "5bae958a-cfa4-4aa8-f294-0495ff11a59a"
      },
      "source": [
        "promedio_original = np.mean(ventas_train)\n",
        "print(promedio_original)"
      ],
      "execution_count": 81,
      "outputs": [
        {
          "output_type": "stream",
          "text": [
            "6955.514290755952\n"
          ],
          "name": "stdout"
        }
      ]
    },
    {
      "cell_type": "markdown",
      "metadata": {
        "id": "OgXMzccVmYqh"
      },
      "source": [
        "##Imputar NA con promedio"
      ]
    },
    {
      "cell_type": "code",
      "metadata": {
        "id": "nsIRgX3LiZHw"
      },
      "source": [
        "train_NA[\"Sales\"]=train_NA[\"Sales\"].replace(np.nan,Promedio_Remuestreo)"
      ],
      "execution_count": 82,
      "outputs": []
    },
    {
      "cell_type": "code",
      "metadata": {
        "colab": {
          "base_uri": "https://localhost:8080/"
        },
        "id": "w8fWV26TnTfv",
        "outputId": "44a2a2bf-5602-493c-c499-4e21a5b1dfd8"
      },
      "source": [
        "train_NA.isnull().sum()"
      ],
      "execution_count": 83,
      "outputs": [
        {
          "output_type": "execute_result",
          "data": {
            "text/plain": [
              "Store            0\n",
              "DayOfWeek        0\n",
              "Date             0\n",
              "Sales            0\n",
              "Customers        0\n",
              "Open             0\n",
              "Promo            0\n",
              "StateHoliday     0\n",
              "SchoolHoliday    0\n",
              "dtype: int64"
            ]
          },
          "metadata": {
            "tags": []
          },
          "execution_count": 83
        }
      ]
    },
    {
      "cell_type": "code",
      "metadata": {
        "id": "YbrgU0i3n84R"
      },
      "source": [
        "ventas_trainNA_tienda_abierta = train_NA[train_NA[\"Open\"]==1]"
      ],
      "execution_count": 84,
      "outputs": []
    },
    {
      "cell_type": "code",
      "metadata": {
        "id": "bLKtV9yCoIlK"
      },
      "source": [
        "ventas_trainNA = ventas_trainNA_tienda_abierta[\"Sales\"]"
      ],
      "execution_count": 85,
      "outputs": []
    },
    {
      "cell_type": "code",
      "metadata": {
        "colab": {
          "base_uri": "https://localhost:8080/"
        },
        "id": "_T4fW5POnx5x",
        "outputId": "8b3ffcee-1604-4717-bf07-1b04ee813cad"
      },
      "source": [
        "promedio_trainNA = np.mean(ventas_trainNA)\n",
        "print(promedio_trainNA)"
      ],
      "execution_count": 86,
      "outputs": [
        {
          "output_type": "stream",
          "text": [
            "6955.5849199704935\n"
          ],
          "name": "stdout"
        }
      ]
    },
    {
      "cell_type": "markdown",
      "metadata": {
        "id": "Hsjo-CG5ok9-"
      },
      "source": [
        "## Análisis de variables categóricas\n",
        "\n"
      ]
    },
    {
      "cell_type": "code",
      "metadata": {
        "id": "T5Eubo0Rv5aN"
      },
      "source": [
        "train = train[train[\"Open\"]==1]"
      ],
      "execution_count": 87,
      "outputs": []
    },
    {
      "cell_type": "markdown",
      "metadata": {
        "id": "7UHa51XPptOh"
      },
      "source": [
        "**1. Variable Promo**"
      ]
    },
    {
      "cell_type": "code",
      "metadata": {
        "colab": {
          "base_uri": "https://localhost:8080/"
        },
        "id": "hCDv3fGEoWeK",
        "outputId": "db00a95d-08ac-4004-c432-91c750cecb6c"
      },
      "source": [
        "pd.value_counts(train[\"Promo\"])"
      ],
      "execution_count": 88,
      "outputs": [
        {
          "output_type": "execute_result",
          "data": {
            "text/plain": [
              "0    467496\n",
              "1    376896\n",
              "Name: Promo, dtype: int64"
            ]
          },
          "metadata": {
            "tags": []
          },
          "execution_count": 88
        }
      ]
    },
    {
      "cell_type": "markdown",
      "metadata": {
        "id": "PRfNolrmqywY"
      },
      "source": [
        "**Distribucion %**"
      ]
    },
    {
      "cell_type": "code",
      "metadata": {
        "colab": {
          "base_uri": "https://localhost:8080/"
        },
        "id": "8X4IdsmwqYY-",
        "outputId": "7d8a114f-5e34-48c3-9ad4-38d18d68a169"
      },
      "source": [
        "(pd.value_counts(train[\"Promo\"])/len(train))*100"
      ],
      "execution_count": 89,
      "outputs": [
        {
          "output_type": "execute_result",
          "data": {
            "text/plain": [
              "0   55.364807\n",
              "1   44.635193\n",
              "Name: Promo, dtype: float64"
            ]
          },
          "metadata": {
            "tags": []
          },
          "execution_count": 89
        }
      ]
    },
    {
      "cell_type": "markdown",
      "metadata": {
        "id": "U1AdpUnYrS3s"
      },
      "source": [
        "**Grafico**"
      ]
    },
    {
      "cell_type": "code",
      "metadata": {
        "colab": {
          "base_uri": "https://localhost:8080/",
          "height": 264
        },
        "id": "zP_f7UWhq_bY",
        "outputId": "d756bb79-f154-4474-e2fe-28e26392f54f"
      },
      "source": [
        "plot = train[\"Promo\"].value_counts().plot(kind=\"pie\",autopct=\"%.2f\",title=\"Dias promoción\")"
      ],
      "execution_count": 90,
      "outputs": [
        {
          "output_type": "display_data",
          "data": {
            "image/png": "[encoded data removed]",
            "text/plain": [
              "<Figure size 432x288 with 1 Axes>"
            ]
          },
          "metadata": {
            "tags": []
          }
        }
      ]
    },
    {
      "cell_type": "markdown",
      "metadata": {
        "id": "w1IqVCdrykww"
      },
      "source": [
        "**2. Variable SchoolHoliday**"
      ]
    },
    {
      "cell_type": "code",
      "metadata": {
        "colab": {
          "base_uri": "https://localhost:8080/"
        },
        "id": "PEOc-hKWyuuN",
        "outputId": "0ced380e-7c42-4771-ab20-874079f1df0b"
      },
      "source": [
        "pd.value_counts(train[\"SchoolHoliday\"])"
      ],
      "execution_count": 91,
      "outputs": [
        {
          "output_type": "execute_result",
          "data": {
            "text/plain": [
              "0    680935\n",
              "1    163457\n",
              "Name: SchoolHoliday, dtype: int64"
            ]
          },
          "metadata": {
            "tags": []
          },
          "execution_count": 91
        }
      ]
    },
    {
      "cell_type": "markdown",
      "metadata": {
        "id": "YmSMSt54y7sd"
      },
      "source": [
        "**Distribucion %**"
      ]
    },
    {
      "cell_type": "code",
      "metadata": {
        "colab": {
          "base_uri": "https://localhost:8080/"
        },
        "id": "3zRuq-iGzCsC",
        "outputId": "127fdd83-2c3c-49cd-ed3c-45fa6673eaab"
      },
      "source": [
        "(pd.value_counts(train[\"SchoolHoliday\"])/len(train))*100"
      ],
      "execution_count": 92,
      "outputs": [
        {
          "output_type": "execute_result",
          "data": {
            "text/plain": [
              "0   80.642048\n",
              "1   19.357952\n",
              "Name: SchoolHoliday, dtype: float64"
            ]
          },
          "metadata": {
            "tags": []
          },
          "execution_count": 92
        }
      ]
    },
    {
      "cell_type": "markdown",
      "metadata": {
        "id": "q5HTpzwFzQ0d"
      },
      "source": [
        "**Grafico**"
      ]
    },
    {
      "cell_type": "code",
      "metadata": {
        "colab": {
          "base_uri": "https://localhost:8080/",
          "height": 264
        },
        "id": "J9xXTwjIzQ0e",
        "outputId": "489c5b08-837b-46cf-b88f-274a2bd33959"
      },
      "source": [
        "plot = train[\"SchoolHoliday\"].value_counts().plot(kind=\"pie\",autopct=\"%.2f\",title=\"Cierre escuelas publicas\")"
      ],
      "execution_count": 93,
      "outputs": [
        {
          "output_type": "display_data",
          "data": {
            "image/png": "[encoded data removed]",
            "text/plain": [
              "<Figure size 432x288 with 1 Axes>"
            ]
          },
          "metadata": {
            "tags": []
          }
        }
      ]
    },
    {
      "cell_type": "markdown",
      "metadata": {
        "id": "L7nLG5Ch4Alj"
      },
      "source": [
        "**3. Variable StateHoliday**"
      ]
    },
    {
      "cell_type": "code",
      "metadata": {
        "colab": {
          "base_uri": "https://localhost:8080/"
        },
        "id": "mQWJM0U84Alq",
        "outputId": "eb999a01-712d-4055-d4db-5db6c87089ec"
      },
      "source": [
        "pd.value_counts(train[\"StateHoliday\"])"
      ],
      "execution_count": 94,
      "outputs": [
        {
          "output_type": "execute_result",
          "data": {
            "text/plain": [
              "0    731342\n",
              "0    112140\n",
              "a       694\n",
              "b       145\n",
              "c        71\n",
              "Name: StateHoliday, dtype: int64"
            ]
          },
          "metadata": {
            "tags": []
          },
          "execution_count": 94
        }
      ]
    },
    {
      "cell_type": "markdown",
      "metadata": {
        "id": "B9bqyOBm4Alr"
      },
      "source": [
        "**Distribucion %**"
      ]
    },
    {
      "cell_type": "code",
      "metadata": {
        "colab": {
          "base_uri": "https://localhost:8080/"
        },
        "id": "KHJ42_dx4Alr",
        "outputId": "d5c3db94-a7e2-4075-a549-5411afb6e4a8"
      },
      "source": [
        "(pd.value_counts(train[\"StateHoliday\"])/len(train))*100"
      ],
      "execution_count": 95,
      "outputs": [
        {
          "output_type": "execute_result",
          "data": {
            "text/plain": [
              "0   86.611669\n",
              "0   13.280562\n",
              "a    0.082189\n",
              "b    0.017172\n",
              "c    0.008408\n",
              "Name: StateHoliday, dtype: float64"
            ]
          },
          "metadata": {
            "tags": []
          },
          "execution_count": 95
        }
      ]
    },
    {
      "cell_type": "markdown",
      "metadata": {
        "id": "KRgQk5aX4Alr"
      },
      "source": [
        "**Grafico**"
      ]
    },
    {
      "cell_type": "code",
      "metadata": {
        "colab": {
          "base_uri": "https://localhost:8080/",
          "height": 264
        },
        "id": "RpaGUSl34Alr",
        "outputId": "06d52016-b09a-4800-868b-2aee45b7d2f8"
      },
      "source": [
        "plot = train[\"StateHoliday\"].value_counts().plot(kind=\"pie\",autopct=\"%.2f\",title=\"Feriado estatal\")"
      ],
      "execution_count": 96,
      "outputs": [
        {
          "output_type": "display_data",
          "data": {
            "image/png": "[encoded data removed]",
            "text/plain": [
              "<Figure size 432x288 with 1 Axes>"
            ]
          },
          "metadata": {
            "tags": []
          }
        }
      ]
    },
    {
      "cell_type": "markdown",
      "metadata": {
        "id": "Q0jfKCvzAi2u"
      },
      "source": [
        "**4. Variable DayOfWeek**"
      ]
    },
    {
      "cell_type": "code",
      "metadata": {
        "colab": {
          "base_uri": "https://localhost:8080/"
        },
        "id": "6qBtFK5rAi21",
        "outputId": "e5e1cd40-0330-4caf-9278-4fca36700805"
      },
      "source": [
        "pd.value_counts(train[\"DayOfWeek\"])"
      ],
      "execution_count": 97,
      "outputs": [
        {
          "output_type": "execute_result",
          "data": {
            "text/plain": [
              "6    144058\n",
              "2    143961\n",
              "3    141936\n",
              "5    138640\n",
              "1    137560\n",
              "4    134644\n",
              "7      3593\n",
              "Name: DayOfWeek, dtype: int64"
            ]
          },
          "metadata": {
            "tags": []
          },
          "execution_count": 97
        }
      ]
    },
    {
      "cell_type": "markdown",
      "metadata": {
        "id": "AXMiNgCXAi22"
      },
      "source": [
        "**Distribucion %**"
      ]
    },
    {
      "cell_type": "code",
      "metadata": {
        "colab": {
          "base_uri": "https://localhost:8080/"
        },
        "id": "mSu_fSLtAi22",
        "outputId": "9a55a7ed-ef91-40c0-a5a4-6d6c26759569"
      },
      "source": [
        "(pd.value_counts(train[\"DayOfWeek\"])/len(train))*100"
      ],
      "execution_count": 98,
      "outputs": [
        {
          "output_type": "execute_result",
          "data": {
            "text/plain": [
              "6   17.060560\n",
              "2   17.049072\n",
              "3   16.809254\n",
              "5   16.418914\n",
              "1   16.291012\n",
              "4   15.945675\n",
              "7    0.425513\n",
              "Name: DayOfWeek, dtype: float64"
            ]
          },
          "metadata": {
            "tags": []
          },
          "execution_count": 98
        }
      ]
    },
    {
      "cell_type": "markdown",
      "metadata": {
        "id": "VUNmvZv7Ai22"
      },
      "source": [
        "**Grafico**"
      ]
    },
    {
      "cell_type": "code",
      "metadata": {
        "colab": {
          "base_uri": "https://localhost:8080/",
          "height": 264
        },
        "id": "QrhsM4bOAi22",
        "outputId": "4c7e8572-0df2-4eca-876f-e18d25defe9a"
      },
      "source": [
        "plot = train[\"DayOfWeek\"].value_counts().plot(kind=\"pie\",autopct=\"%.2f\",title=\"Dia de la semana\")"
      ],
      "execution_count": 99,
      "outputs": [
        {
          "output_type": "display_data",
          "data": {
            "image/png": "[encoded data removed]",
            "text/plain": [
              "<Figure size 432x288 with 1 Axes>"
            ]
          },
          "metadata": {
            "tags": []
          }
        }
      ]
    },
    {
      "cell_type": "markdown",
      "metadata": {
        "id": "70CINfQLsaMN"
      },
      "source": [
        "**Variable categorica Vs numerica**"
      ]
    },
    {
      "cell_type": "markdown",
      "metadata": {
        "id": "XT7UHS7VzwWQ"
      },
      "source": [
        "**1. Promo Vs Sales**"
      ]
    },
    {
      "cell_type": "markdown",
      "metadata": {
        "id": "I2Fc9AMJuAvR"
      },
      "source": [
        "**Visualmente**"
      ]
    },
    {
      "cell_type": "code",
      "metadata": {
        "colab": {
          "base_uri": "https://localhost:8080/",
          "height": 297
        },
        "id": "8qgwUUkEr1C3",
        "outputId": "01800140-928c-44fa-859c-d97272c2fa2f"
      },
      "source": [
        " sns.boxplot(x=train[\"Promo\"],y=train[\"Sales\"],data=train,color=\"black\")\n"
      ],
      "execution_count": 100,
      "outputs": [
        {
          "output_type": "execute_result",
          "data": {
            "text/plain": [
              "<matplotlib.axes._subplots.AxesSubplot at 0x7f9f2113dd10>"
            ]
          },
          "metadata": {
            "tags": []
          },
          "execution_count": 100
        },
        {
          "output_type": "display_data",
          "data": {
            "image/png": "[encoded data removed]",
            "text/plain": [
              "<Figure size 432x288 with 1 Axes>"
            ]
          },
          "metadata": {
            "tags": [],
            "needs_background": "light"
          }
        }
      ]
    },
    {
      "cell_type": "code",
      "metadata": {
        "id": "qlnhT2CWuhNP"
      },
      "source": [
        "from scipy import stats"
      ],
      "execution_count": 101,
      "outputs": []
    },
    {
      "cell_type": "code",
      "metadata": {
        "colab": {
          "base_uri": "https://localhost:8080/",
          "height": 363
        },
        "id": "eOq0E_L5vNTo",
        "outputId": "a027f620-5b04-474c-98d5-9e45848eb3ce"
      },
      "source": [
        "grupo = train[[\"Promo\",\"Sales\"]].groupby(\"Promo\")\n",
        "grupo.head(5)"
      ],
      "execution_count": 102,
      "outputs": [
        {
          "output_type": "execute_result",
          "data": {
            "text/html": [
              "<div>\n",
              "<style scoped>\n",
              "    .dataframe tbody tr th:only-of-type {\n",
              "        vertical-align: middle;\n",
              "    }\n",
              "\n",
              "    .dataframe tbody tr th {\n",
              "        vertical-align: top;\n",
              "    }\n",
              "\n",
              "    .dataframe thead th {\n",
              "        text-align: right;\n",
              "    }\n",
              "</style>\n",
              "<table border=\"1\" class=\"dataframe\">\n",
              "  <thead>\n",
              "    <tr style=\"text-align: right;\">\n",
              "      <th></th>\n",
              "      <th>Promo</th>\n",
              "      <th>Sales</th>\n",
              "    </tr>\n",
              "  </thead>\n",
              "  <tbody>\n",
              "    <tr>\n",
              "      <th>0</th>\n",
              "      <td>1</td>\n",
              "      <td>5263</td>\n",
              "    </tr>\n",
              "    <tr>\n",
              "      <th>1</th>\n",
              "      <td>1</td>\n",
              "      <td>6064</td>\n",
              "    </tr>\n",
              "    <tr>\n",
              "      <th>2</th>\n",
              "      <td>1</td>\n",
              "      <td>8314</td>\n",
              "    </tr>\n",
              "    <tr>\n",
              "      <th>3</th>\n",
              "      <td>1</td>\n",
              "      <td>13995</td>\n",
              "    </tr>\n",
              "    <tr>\n",
              "      <th>4</th>\n",
              "      <td>1</td>\n",
              "      <td>4822</td>\n",
              "    </tr>\n",
              "    <tr>\n",
              "      <th>5659</th>\n",
              "      <td>0</td>\n",
              "      <td>11421</td>\n",
              "    </tr>\n",
              "    <tr>\n",
              "      <th>5696</th>\n",
              "      <td>0</td>\n",
              "      <td>5773</td>\n",
              "    </tr>\n",
              "    <tr>\n",
              "      <th>5783</th>\n",
              "      <td>0</td>\n",
              "      <td>3742</td>\n",
              "    </tr>\n",
              "    <tr>\n",
              "      <th>5833</th>\n",
              "      <td>0</td>\n",
              "      <td>15998</td>\n",
              "    </tr>\n",
              "    <tr>\n",
              "      <th>5836</th>\n",
              "      <td>0</td>\n",
              "      <td>32547</td>\n",
              "    </tr>\n",
              "  </tbody>\n",
              "</table>\n",
              "</div>"
            ],
            "text/plain": [
              "     Promo  Sales\n",
              "0        1   5263\n",
              "1        1   6064\n",
              "2        1   8314\n",
              "3        1  13995\n",
              "4        1   4822\n",
              "5659     0  11421\n",
              "5696     0   5773\n",
              "5783     0   3742\n",
              "5833     0  15998\n",
              "5836     0  32547"
            ]
          },
          "metadata": {
            "tags": []
          },
          "execution_count": 102
        }
      ]
    },
    {
      "cell_type": "markdown",
      "metadata": {
        "id": "Hff2a2h1wMaj"
      },
      "source": [
        "**Test estadistico**"
      ]
    },
    {
      "cell_type": "code",
      "metadata": {
        "id": "xGFj0trWvfeK"
      },
      "source": [
        "f_val,p_val = stats.f_oneway(grupo.get_group(0)[\"Sales\"],grupo.get_group(1)[\"Sales\"])"
      ],
      "execution_count": 103,
      "outputs": []
    },
    {
      "cell_type": "code",
      "metadata": {
        "colab": {
          "base_uri": "https://localhost:8080/",
          "height": 35
        },
        "id": "C1tbo0kBw3ZA",
        "outputId": "b91643cf-f3ab-4029-faae-c3a9f9288bf1"
      },
      "source": [
        "\"{:f}\".format(p_val)"
      ],
      "execution_count": 104,
      "outputs": [
        {
          "output_type": "execute_result",
          "data": {
            "application/vnd.google.colaboratory.intrinsic+json": {
              "type": "string"
            },
            "text/plain": [
              "'0.000000'"
            ]
          },
          "metadata": {
            "tags": []
          },
          "execution_count": 104
        }
      ]
    },
    {
      "cell_type": "markdown",
      "metadata": {
        "id": "Jd4C2vNJxnpO"
      },
      "source": [
        "* **Los días de promo estan relacionados con la cantidad de ventas**"
      ]
    },
    {
      "cell_type": "markdown",
      "metadata": {
        "id": "vImrKRQgz3hp"
      },
      "source": [
        "**2. SchoolHoliday Vs Sales**"
      ]
    },
    {
      "cell_type": "markdown",
      "metadata": {
        "id": "tNd2wdLVz3hp"
      },
      "source": [
        "**Visualmente**"
      ]
    },
    {
      "cell_type": "code",
      "metadata": {
        "colab": {
          "base_uri": "https://localhost:8080/",
          "height": 297
        },
        "id": "yZ-gOBMjz3hq",
        "outputId": "b597f0a1-fdac-40ef-e65f-ba3bd70f7732"
      },
      "source": [
        " sns.boxplot(x=train[\"SchoolHoliday\"],y=train[\"Sales\"],data=train,color=\"black\")\n"
      ],
      "execution_count": 105,
      "outputs": [
        {
          "output_type": "execute_result",
          "data": {
            "text/plain": [
              "<matplotlib.axes._subplots.AxesSubplot at 0x7f9f211f7bd0>"
            ]
          },
          "metadata": {
            "tags": []
          },
          "execution_count": 105
        },
        {
          "output_type": "display_data",
          "data": {
            "image/png": "[encoded data removed]",
            "text/plain": [
              "<Figure size 432x288 with 1 Axes>"
            ]
          },
          "metadata": {
            "tags": [],
            "needs_background": "light"
          }
        }
      ]
    },
    {
      "cell_type": "code",
      "metadata": {
        "colab": {
          "base_uri": "https://localhost:8080/",
          "height": 363
        },
        "id": "SFd7SYW1z3hq",
        "outputId": "64b02157-229a-452c-91e4-dd34182e0f78"
      },
      "source": [
        "grupo = train[[\"SchoolHoliday\",\"Sales\"]].groupby(\"SchoolHoliday\")\n",
        "grupo.head(5)"
      ],
      "execution_count": 106,
      "outputs": [
        {
          "output_type": "execute_result",
          "data": {
            "text/html": [
              "<div>\n",
              "<style scoped>\n",
              "    .dataframe tbody tr th:only-of-type {\n",
              "        vertical-align: middle;\n",
              "    }\n",
              "\n",
              "    .dataframe tbody tr th {\n",
              "        vertical-align: top;\n",
              "    }\n",
              "\n",
              "    .dataframe thead th {\n",
              "        text-align: right;\n",
              "    }\n",
              "</style>\n",
              "<table border=\"1\" class=\"dataframe\">\n",
              "  <thead>\n",
              "    <tr style=\"text-align: right;\">\n",
              "      <th></th>\n",
              "      <th>SchoolHoliday</th>\n",
              "      <th>Sales</th>\n",
              "    </tr>\n",
              "  </thead>\n",
              "  <tbody>\n",
              "    <tr>\n",
              "      <th>0</th>\n",
              "      <td>1</td>\n",
              "      <td>5263</td>\n",
              "    </tr>\n",
              "    <tr>\n",
              "      <th>1</th>\n",
              "      <td>1</td>\n",
              "      <td>6064</td>\n",
              "    </tr>\n",
              "    <tr>\n",
              "      <th>2</th>\n",
              "      <td>1</td>\n",
              "      <td>8314</td>\n",
              "    </tr>\n",
              "    <tr>\n",
              "      <th>3</th>\n",
              "      <td>1</td>\n",
              "      <td>13995</td>\n",
              "    </tr>\n",
              "    <tr>\n",
              "      <th>4</th>\n",
              "      <td>1</td>\n",
              "      <td>4822</td>\n",
              "    </tr>\n",
              "    <tr>\n",
              "      <th>12</th>\n",
              "      <td>0</td>\n",
              "      <td>8821</td>\n",
              "    </tr>\n",
              "    <tr>\n",
              "      <th>19</th>\n",
              "      <td>0</td>\n",
              "      <td>9593</td>\n",
              "    </tr>\n",
              "    <tr>\n",
              "      <th>21</th>\n",
              "      <td>0</td>\n",
              "      <td>6566</td>\n",
              "    </tr>\n",
              "    <tr>\n",
              "      <th>31</th>\n",
              "      <td>0</td>\n",
              "      <td>6395</td>\n",
              "    </tr>\n",
              "    <tr>\n",
              "      <th>35</th>\n",
              "      <td>0</td>\n",
              "      <td>12422</td>\n",
              "    </tr>\n",
              "  </tbody>\n",
              "</table>\n",
              "</div>"
            ],
            "text/plain": [
              "   SchoolHoliday  Sales\n",
              "0              1   5263\n",
              "1              1   6064\n",
              "2              1   8314\n",
              "3              1  13995\n",
              "4              1   4822\n",
              "12             0   8821\n",
              "19             0   9593\n",
              "21             0   6566\n",
              "31             0   6395\n",
              "35             0  12422"
            ]
          },
          "metadata": {
            "tags": []
          },
          "execution_count": 106
        }
      ]
    },
    {
      "cell_type": "markdown",
      "metadata": {
        "id": "ZWJHQ90uz3hr"
      },
      "source": [
        "**Test estadistico**"
      ]
    },
    {
      "cell_type": "code",
      "metadata": {
        "id": "btU0XwLDz3hr"
      },
      "source": [
        "f_val,p_val = stats.f_oneway(grupo.get_group(0)[\"Sales\"],grupo.get_group(1)[\"Sales\"])"
      ],
      "execution_count": 107,
      "outputs": []
    },
    {
      "cell_type": "code",
      "metadata": {
        "colab": {
          "base_uri": "https://localhost:8080/",
          "height": 35
        },
        "id": "cfrBen_Bz3hr",
        "outputId": "12cbbc03-d990-49ac-c6c7-2b038e279ed8"
      },
      "source": [
        "\"{:f}\".format(p_val)"
      ],
      "execution_count": 108,
      "outputs": [
        {
          "output_type": "execute_result",
          "data": {
            "application/vnd.google.colaboratory.intrinsic+json": {
              "type": "string"
            },
            "text/plain": [
              "'0.000000'"
            ]
          },
          "metadata": {
            "tags": []
          },
          "execution_count": 108
        }
      ]
    },
    {
      "cell_type": "markdown",
      "metadata": {
        "id": "4k-VJ62Qz3hr"
      },
      "source": [
        "* **Los días de escuela cerrada estan relacionados con la cantidad de ventas**"
      ]
    },
    {
      "cell_type": "markdown",
      "metadata": {
        "id": "3Ql1nXMe4nHV"
      },
      "source": [
        "**3. StateHoliday Vs Sales**"
      ]
    },
    {
      "cell_type": "markdown",
      "metadata": {
        "id": "I4ySfFAU4nHb"
      },
      "source": [
        "**Visualmente**"
      ]
    },
    {
      "cell_type": "code",
      "metadata": {
        "colab": {
          "base_uri": "https://localhost:8080/",
          "height": 297
        },
        "id": "fC8kLrNH4nHc",
        "outputId": "a2a7077c-ac72-41ca-e83a-1d1bcd7448f7"
      },
      "source": [
        " sns.boxplot(x=train[\"StateHoliday\"],y=train[\"Sales\"],data=train,color=\"black\")\n"
      ],
      "execution_count": 109,
      "outputs": [
        {
          "output_type": "execute_result",
          "data": {
            "text/plain": [
              "<matplotlib.axes._subplots.AxesSubplot at 0x7f9f21037f90>"
            ]
          },
          "metadata": {
            "tags": []
          },
          "execution_count": 109
        },
        {
          "output_type": "display_data",
          "data": {
            "image/png": "[encoded data removed]",
            "text/plain": [
              "<Figure size 432x288 with 1 Axes>"
            ]
          },
          "metadata": {
            "tags": [],
            "needs_background": "light"
          }
        }
      ]
    },
    {
      "cell_type": "code",
      "metadata": {
        "colab": {
          "base_uri": "https://localhost:8080/",
          "height": 423
        },
        "id": "FV799nUo4nHc",
        "outputId": "bdb40334-dc58-487f-ace3-2217838eb278"
      },
      "source": [
        "grupo = train[[\"StateHoliday\",\"Sales\"]].groupby(\"StateHoliday\")\n",
        "grupo.head(5)"
      ],
      "execution_count": 110,
      "outputs": [
        {
          "output_type": "execute_result",
          "data": {
            "text/html": [
              "<div>\n",
              "<style scoped>\n",
              "    .dataframe tbody tr th:only-of-type {\n",
              "        vertical-align: middle;\n",
              "    }\n",
              "\n",
              "    .dataframe tbody tr th {\n",
              "        vertical-align: top;\n",
              "    }\n",
              "\n",
              "    .dataframe thead th {\n",
              "        text-align: right;\n",
              "    }\n",
              "</style>\n",
              "<table border=\"1\" class=\"dataframe\">\n",
              "  <thead>\n",
              "    <tr style=\"text-align: right;\">\n",
              "      <th></th>\n",
              "      <th>StateHoliday</th>\n",
              "      <th>Sales</th>\n",
              "    </tr>\n",
              "  </thead>\n",
              "  <tbody>\n",
              "    <tr>\n",
              "      <th>0</th>\n",
              "      <td>0</td>\n",
              "      <td>5263</td>\n",
              "    </tr>\n",
              "    <tr>\n",
              "      <th>1</th>\n",
              "      <td>0</td>\n",
              "      <td>6064</td>\n",
              "    </tr>\n",
              "    <tr>\n",
              "      <th>2</th>\n",
              "      <td>0</td>\n",
              "      <td>8314</td>\n",
              "    </tr>\n",
              "    <tr>\n",
              "      <th>3</th>\n",
              "      <td>0</td>\n",
              "      <td>13995</td>\n",
              "    </tr>\n",
              "    <tr>\n",
              "      <th>4</th>\n",
              "      <td>0</td>\n",
              "      <td>4822</td>\n",
              "    </tr>\n",
              "    <tr>\n",
              "      <th>...</th>\n",
              "      <td>...</td>\n",
              "      <td>...</td>\n",
              "    </tr>\n",
              "    <tr>\n",
              "      <th>327680</th>\n",
              "      <td>0</td>\n",
              "      <td>5732</td>\n",
              "    </tr>\n",
              "    <tr>\n",
              "      <th>327681</th>\n",
              "      <td>0</td>\n",
              "      <td>7470</td>\n",
              "    </tr>\n",
              "    <tr>\n",
              "      <th>327682</th>\n",
              "      <td>0</td>\n",
              "      <td>5484</td>\n",
              "    </tr>\n",
              "    <tr>\n",
              "      <th>327683</th>\n",
              "      <td>0</td>\n",
              "      <td>13801</td>\n",
              "    </tr>\n",
              "    <tr>\n",
              "      <th>327684</th>\n",
              "      <td>0</td>\n",
              "      <td>3519</td>\n",
              "    </tr>\n",
              "  </tbody>\n",
              "</table>\n",
              "<p>25 rows × 2 columns</p>\n",
              "</div>"
            ],
            "text/plain": [
              "       StateHoliday  Sales\n",
              "0                 0   5263\n",
              "1                 0   6064\n",
              "2                 0   8314\n",
              "3                 0  13995\n",
              "4                 0   4822\n",
              "...             ...    ...\n",
              "327680            0   5732\n",
              "327681            0   7470\n",
              "327682            0   5484\n",
              "327683            0  13801\n",
              "327684            0   3519\n",
              "\n",
              "[25 rows x 2 columns]"
            ]
          },
          "metadata": {
            "tags": []
          },
          "execution_count": 110
        }
      ]
    },
    {
      "cell_type": "markdown",
      "metadata": {
        "id": "pHZ-otML4nHc"
      },
      "source": [
        "**Test estadistico**"
      ]
    },
    {
      "cell_type": "code",
      "metadata": {
        "id": "FOGBU52e4nHc"
      },
      "source": [
        "f_val,p_val = stats.f_oneway(grupo.get_group(\"a\")[\"Sales\"],grupo.get_group(\"b\")[\"Sales\"],grupo.get_group(\"c\")[\"Sales\"],grupo.get_group(0)[\"Sales\"])"
      ],
      "execution_count": 111,
      "outputs": []
    },
    {
      "cell_type": "code",
      "metadata": {
        "colab": {
          "base_uri": "https://localhost:8080/",
          "height": 35
        },
        "id": "_JweCCeR4nHd",
        "outputId": "a1e6135d-827c-4241-b5c1-b5ed296b5e24"
      },
      "source": [
        "\"{:f}\".format(p_val)"
      ],
      "execution_count": 112,
      "outputs": [
        {
          "output_type": "execute_result",
          "data": {
            "application/vnd.google.colaboratory.intrinsic+json": {
              "type": "string"
            },
            "text/plain": [
              "'0.000000'"
            ]
          },
          "metadata": {
            "tags": []
          },
          "execution_count": 112
        }
      ]
    },
    {
      "cell_type": "markdown",
      "metadata": {
        "id": "VaZyyzaB4nHd"
      },
      "source": [
        "* **Los días de feriado estatal estan relacionados con la cantidad de ventas**\n",
        "*Notacion StateHoliday: a = festivo, b = festivo de Pascua, c = Navidad, 0 = Ninguno*"
      ]
    },
    {
      "cell_type": "markdown",
      "metadata": {
        "id": "5rOux6ns_Xh1"
      },
      "source": [
        "**4. DayOfWeek Vs Sales**"
      ]
    },
    {
      "cell_type": "markdown",
      "metadata": {
        "id": "8Kx-K_Wb_Xh1"
      },
      "source": [
        "**Visualmente**"
      ]
    },
    {
      "cell_type": "code",
      "metadata": {
        "colab": {
          "base_uri": "https://localhost:8080/",
          "height": 297
        },
        "id": "bB0HglT7_Xh1",
        "outputId": "466719f0-94cd-4b37-dd86-ae502e7cd550"
      },
      "source": [
        " sns.boxplot(x=train[\"DayOfWeek\"],y=train[\"Sales\"],data=train,color=\"black\")\n"
      ],
      "execution_count": 113,
      "outputs": [
        {
          "output_type": "execute_result",
          "data": {
            "text/plain": [
              "<matplotlib.axes._subplots.AxesSubplot at 0x7f9f1131d190>"
            ]
          },
          "metadata": {
            "tags": []
          },
          "execution_count": 113
        },
        {
          "output_type": "display_data",
          "data": {
            "image/png": "[encoded data removed]",
            "text/plain": [
              "<Figure size 432x288 with 1 Axes>"
            ]
          },
          "metadata": {
            "tags": [],
            "needs_background": "light"
          }
        }
      ]
    },
    {
      "cell_type": "code",
      "metadata": {
        "colab": {
          "base_uri": "https://localhost:8080/",
          "height": 423
        },
        "id": "bnQ5XMCZ_Xh2",
        "outputId": "4117d287-3c54-47f9-a2fd-d1e79018344e"
      },
      "source": [
        "grupo = train[[\"DayOfWeek\",\"Sales\"]].groupby(\"DayOfWeek\")\n",
        "grupo.head(5)"
      ],
      "execution_count": 114,
      "outputs": [
        {
          "output_type": "execute_result",
          "data": {
            "text/html": [
              "<div>\n",
              "<style scoped>\n",
              "    .dataframe tbody tr th:only-of-type {\n",
              "        vertical-align: middle;\n",
              "    }\n",
              "\n",
              "    .dataframe tbody tr th {\n",
              "        vertical-align: top;\n",
              "    }\n",
              "\n",
              "    .dataframe thead th {\n",
              "        text-align: right;\n",
              "    }\n",
              "</style>\n",
              "<table border=\"1\" class=\"dataframe\">\n",
              "  <thead>\n",
              "    <tr style=\"text-align: right;\">\n",
              "      <th></th>\n",
              "      <th>DayOfWeek</th>\n",
              "      <th>Sales</th>\n",
              "    </tr>\n",
              "  </thead>\n",
              "  <tbody>\n",
              "    <tr>\n",
              "      <th>0</th>\n",
              "      <td>5</td>\n",
              "      <td>5263</td>\n",
              "    </tr>\n",
              "    <tr>\n",
              "      <th>1</th>\n",
              "      <td>5</td>\n",
              "      <td>6064</td>\n",
              "    </tr>\n",
              "    <tr>\n",
              "      <th>2</th>\n",
              "      <td>5</td>\n",
              "      <td>8314</td>\n",
              "    </tr>\n",
              "    <tr>\n",
              "      <th>3</th>\n",
              "      <td>5</td>\n",
              "      <td>13995</td>\n",
              "    </tr>\n",
              "    <tr>\n",
              "      <th>4</th>\n",
              "      <td>5</td>\n",
              "      <td>4822</td>\n",
              "    </tr>\n",
              "    <tr>\n",
              "      <th>...</th>\n",
              "      <td>...</td>\n",
              "      <td>...</td>\n",
              "    </tr>\n",
              "    <tr>\n",
              "      <th>6690</th>\n",
              "      <td>6</td>\n",
              "      <td>4364</td>\n",
              "    </tr>\n",
              "    <tr>\n",
              "      <th>6691</th>\n",
              "      <td>6</td>\n",
              "      <td>2512</td>\n",
              "    </tr>\n",
              "    <tr>\n",
              "      <th>6692</th>\n",
              "      <td>6</td>\n",
              "      <td>3878</td>\n",
              "    </tr>\n",
              "    <tr>\n",
              "      <th>6693</th>\n",
              "      <td>6</td>\n",
              "      <td>9322</td>\n",
              "    </tr>\n",
              "    <tr>\n",
              "      <th>6694</th>\n",
              "      <td>6</td>\n",
              "      <td>2030</td>\n",
              "    </tr>\n",
              "  </tbody>\n",
              "</table>\n",
              "<p>35 rows × 2 columns</p>\n",
              "</div>"
            ],
            "text/plain": [
              "     DayOfWeek  Sales\n",
              "0            5   5263\n",
              "1            5   6064\n",
              "2            5   8314\n",
              "3            5  13995\n",
              "4            5   4822\n",
              "...        ...    ...\n",
              "6690         6   4364\n",
              "6691         6   2512\n",
              "6692         6   3878\n",
              "6693         6   9322\n",
              "6694         6   2030\n",
              "\n",
              "[35 rows x 2 columns]"
            ]
          },
          "metadata": {
            "tags": []
          },
          "execution_count": 114
        }
      ]
    },
    {
      "cell_type": "markdown",
      "metadata": {
        "id": "45E8rKj1_Xh2"
      },
      "source": [
        "**Test estadistico**"
      ]
    },
    {
      "cell_type": "code",
      "metadata": {
        "id": "qx_CHX_V_Xh2"
      },
      "source": [
        "f_val,p_val = stats.f_oneway(grupo.get_group(\"1\")[\"Sales\"],grupo.get_group(\"2\")[\"Sales\"],grupo.get_group(\"3\")[\"Sales\"],grupo.get_group(\"4\")[\"Sales\"],grupo.get_group(\"5\")[\"Sales\"],grupo.get_group(\"6\")[\"Sales\"],grupo.get_group(\"7\")[\"Sales\"])"
      ],
      "execution_count": 115,
      "outputs": []
    },
    {
      "cell_type": "code",
      "metadata": {
        "colab": {
          "base_uri": "https://localhost:8080/",
          "height": 35
        },
        "id": "GXOLPRFr_Xh2",
        "outputId": "1158b13c-a0ed-4363-8119-7e74b6b5e49e"
      },
      "source": [
        "\"{:f}\".format(p_val)"
      ],
      "execution_count": 116,
      "outputs": [
        {
          "output_type": "execute_result",
          "data": {
            "application/vnd.google.colaboratory.intrinsic+json": {
              "type": "string"
            },
            "text/plain": [
              "'0.000000'"
            ]
          },
          "metadata": {
            "tags": []
          },
          "execution_count": 116
        }
      ]
    },
    {
      "cell_type": "markdown",
      "metadata": {
        "id": "BP7BveE4_Xh2"
      },
      "source": [
        "* **Los días de la semana estan relacionados con la cantidad de ventas**"
      ]
    },
    {
      "cell_type": "markdown",
      "metadata": {
        "id": "_km6qefb6bWV"
      },
      "source": [
        "**Variable numerica Vs numerica**"
      ]
    },
    {
      "cell_type": "markdown",
      "metadata": {
        "id": "tlhUFP8G7IXu"
      },
      "source": [
        "**Correlacion de Pearson**"
      ]
    },
    {
      "cell_type": "code",
      "metadata": {
        "colab": {
          "base_uri": "https://localhost:8080/",
          "height": 112
        },
        "id": "h9OwBG636f0S",
        "outputId": "a990bef9-66a7-4c69-eda3-a7d8bf14baf9"
      },
      "source": [
        "train.corr()"
      ],
      "execution_count": 117,
      "outputs": [
        {
          "output_type": "execute_result",
          "data": {
            "text/html": [
              "<div>\n",
              "<style scoped>\n",
              "    .dataframe tbody tr th:only-of-type {\n",
              "        vertical-align: middle;\n",
              "    }\n",
              "\n",
              "    .dataframe tbody tr th {\n",
              "        vertical-align: top;\n",
              "    }\n",
              "\n",
              "    .dataframe thead th {\n",
              "        text-align: right;\n",
              "    }\n",
              "</style>\n",
              "<table border=\"1\" class=\"dataframe\">\n",
              "  <thead>\n",
              "    <tr style=\"text-align: right;\">\n",
              "      <th></th>\n",
              "      <th>Sales</th>\n",
              "      <th>Customers</th>\n",
              "    </tr>\n",
              "  </thead>\n",
              "  <tbody>\n",
              "    <tr>\n",
              "      <th>Sales</th>\n",
              "      <td>1.000000</td>\n",
              "      <td>0.823597</td>\n",
              "    </tr>\n",
              "    <tr>\n",
              "      <th>Customers</th>\n",
              "      <td>0.823597</td>\n",
              "      <td>1.000000</td>\n",
              "    </tr>\n",
              "  </tbody>\n",
              "</table>\n",
              "</div>"
            ],
            "text/plain": [
              "             Sales  Customers\n",
              "Sales     1.000000   0.823597\n",
              "Customers 0.823597   1.000000"
            ]
          },
          "metadata": {
            "tags": []
          },
          "execution_count": 117
        }
      ]
    },
    {
      "cell_type": "markdown",
      "metadata": {
        "id": "XlHIPn9N85qi"
      },
      "source": [
        "**Grado de significancia estadistica**"
      ]
    },
    {
      "cell_type": "code",
      "metadata": {
        "id": "1E9P4jcG7UDV"
      },
      "source": [
        "pearson_coef,p_value=stats.pearsonr(train[\"Customers\"],train[\"Sales\"])"
      ],
      "execution_count": 118,
      "outputs": []
    },
    {
      "cell_type": "code",
      "metadata": {
        "colab": {
          "base_uri": "https://localhost:8080/",
          "height": 35
        },
        "id": "OUAYlfwp9RF1",
        "outputId": "be42b36c-1ca9-400a-e7db-22bcd8f00c64"
      },
      "source": [
        "\"{:f}\".format(p_value)"
      ],
      "execution_count": 119,
      "outputs": [
        {
          "output_type": "execute_result",
          "data": {
            "application/vnd.google.colaboratory.intrinsic+json": {
              "type": "string"
            },
            "text/plain": [
              "'0.000000'"
            ]
          },
          "metadata": {
            "tags": []
          },
          "execution_count": 119
        }
      ]
    },
    {
      "cell_type": "code",
      "metadata": {
        "colab": {
          "base_uri": "https://localhost:8080/"
        },
        "id": "4qjI98vk9X1u",
        "outputId": "e4daeea3-c4c3-4263-ccbb-c9b0220e50ec"
      },
      "source": [
        "pearson_coef"
      ],
      "execution_count": 120,
      "outputs": [
        {
          "output_type": "execute_result",
          "data": {
            "text/plain": [
              "0.8235967321975433"
            ]
          },
          "metadata": {
            "tags": []
          },
          "execution_count": 120
        }
      ]
    },
    {
      "cell_type": "markdown",
      "metadata": {
        "id": "zDdNFqLc9gtt"
      },
      "source": [
        "**La correlación entre las ventas y el numero de clientes es estadisticamente significativa**"
      ]
    },
    {
      "cell_type": "code",
      "metadata": {
        "colab": {
          "base_uri": "https://localhost:8080/",
          "height": 265
        },
        "id": "pQSrDFW99aS-",
        "outputId": "b8ed0db9-cdf7-4a0d-af6b-1458a6e43489"
      },
      "source": [
        "plt.scatter(train[\"Customers\"],train[\"Sales\"])\n",
        "plt.show()"
      ],
      "execution_count": 121,
      "outputs": [
        {
          "output_type": "display_data",
          "data": {
            "image/png": "[encoded data removed]",
            "text/plain": [
              "<Figure size 432x288 with 1 Axes>"
            ]
          },
          "metadata": {
            "tags": [],
            "needs_background": "light"
          }
        }
      ]
    },
    {
      "cell_type": "markdown",
      "metadata": {
        "id": "R-4W-NVm-6sP"
      },
      "source": [
        "## **Selección de variables importantes**\n"
      ]
    },
    {
      "cell_type": "markdown",
      "metadata": {
        "id": "qPvz8Xs1heSv"
      },
      "source": [
        "## **Metodo de Correlación**"
      ]
    },
    {
      "cell_type": "markdown",
      "metadata": {
        "id": "C3bq3ThVfBzK"
      },
      "source": [
        "**Seleccionamos las variables numericas**"
      ]
    },
    {
      "cell_type": "code",
      "metadata": {
        "id": "2p-oN8Xf-eIY",
        "colab": {
          "base_uri": "https://localhost:8080/"
        },
        "outputId": "e72d23cf-f0a6-4d4b-f99e-a8da653a10cd"
      },
      "source": [
        "train.info()"
      ],
      "execution_count": 136,
      "outputs": [
        {
          "output_type": "stream",
          "text": [
            "<class 'pandas.core.frame.DataFrame'>\n",
            "Int64Index: 844392 entries, 0 to 1017190\n",
            "Data columns (total 9 columns):\n",
            " #   Column         Non-Null Count   Dtype         \n",
            "---  ------         --------------   -----         \n",
            " 0   Store          844392 non-null  object        \n",
            " 1   DayOfWeek      844392 non-null  object        \n",
            " 2   Date           844392 non-null  datetime64[ns]\n",
            " 3   Sales          844392 non-null  int64         \n",
            " 4   Customers      844392 non-null  int64         \n",
            " 5   Open           844392 non-null  category      \n",
            " 6   Promo          844392 non-null  category      \n",
            " 7   StateHoliday   844392 non-null  category      \n",
            " 8   SchoolHoliday  844392 non-null  category      \n",
            "dtypes: category(4), datetime64[ns](1), int64(2), object(2)\n",
            "memory usage: 81.9+ MB\n"
          ],
          "name": "stdout"
        }
      ]
    },
    {
      "cell_type": "markdown",
      "metadata": {
        "id": "BDigyCgVgZiz"
      },
      "source": [
        "**Identificar de forma automática variables numericas**"
      ]
    },
    {
      "cell_type": "code",
      "metadata": {
        "colab": {
          "base_uri": "https://localhost:8080/",
          "height": 112
        },
        "id": "Pbzss6BigUiD",
        "outputId": "d91a6539-0285-4552-c5ce-d0aff6c9e2cb"
      },
      "source": [
        "train.head(2)"
      ],
      "execution_count": 137,
      "outputs": [
        {
          "output_type": "execute_result",
          "data": {
            "text/html": [
              "<div>\n",
              "<style scoped>\n",
              "    .dataframe tbody tr th:only-of-type {\n",
              "        vertical-align: middle;\n",
              "    }\n",
              "\n",
              "    .dataframe tbody tr th {\n",
              "        vertical-align: top;\n",
              "    }\n",
              "\n",
              "    .dataframe thead th {\n",
              "        text-align: right;\n",
              "    }\n",
              "</style>\n",
              "<table border=\"1\" class=\"dataframe\">\n",
              "  <thead>\n",
              "    <tr style=\"text-align: right;\">\n",
              "      <th></th>\n",
              "      <th>Store</th>\n",
              "      <th>DayOfWeek</th>\n",
              "      <th>Date</th>\n",
              "      <th>Sales</th>\n",
              "      <th>Customers</th>\n",
              "      <th>Open</th>\n",
              "      <th>Promo</th>\n",
              "      <th>StateHoliday</th>\n",
              "      <th>SchoolHoliday</th>\n",
              "    </tr>\n",
              "  </thead>\n",
              "  <tbody>\n",
              "    <tr>\n",
              "      <th>0</th>\n",
              "      <td>1</td>\n",
              "      <td>5</td>\n",
              "      <td>2015-07-31</td>\n",
              "      <td>5263</td>\n",
              "      <td>555</td>\n",
              "      <td>1</td>\n",
              "      <td>1</td>\n",
              "      <td>0</td>\n",
              "      <td>1</td>\n",
              "    </tr>\n",
              "    <tr>\n",
              "      <th>1</th>\n",
              "      <td>2</td>\n",
              "      <td>5</td>\n",
              "      <td>2015-07-31</td>\n",
              "      <td>6064</td>\n",
              "      <td>625</td>\n",
              "      <td>1</td>\n",
              "      <td>1</td>\n",
              "      <td>0</td>\n",
              "      <td>1</td>\n",
              "    </tr>\n",
              "  </tbody>\n",
              "</table>\n",
              "</div>"
            ],
            "text/plain": [
              "  Store DayOfWeek       Date  Sales  ...  Open Promo StateHoliday SchoolHoliday\n",
              "0     1         5 2015-07-31   5263  ...     1     1            0             1\n",
              "1     2         5 2015-07-31   6064  ...     1     1            0             1\n",
              "\n",
              "[2 rows x 9 columns]"
            ]
          },
          "metadata": {
            "tags": []
          },
          "execution_count": 137
        }
      ]
    },
    {
      "cell_type": "code",
      "metadata": {
        "id": "ZQ2TUiRyfMhR"
      },
      "source": [
        "variables_numericas = train._get_numeric_data().columns"
      ],
      "execution_count": 138,
      "outputs": []
    },
    {
      "cell_type": "code",
      "metadata": {
        "colab": {
          "base_uri": "https://localhost:8080/"
        },
        "id": "nq6OGp66h1uV",
        "outputId": "f1d3ba34-5edd-431a-dfb2-bcb349ae2d34"
      },
      "source": [
        "variables_numericas"
      ],
      "execution_count": 139,
      "outputs": [
        {
          "output_type": "execute_result",
          "data": {
            "text/plain": [
              "Index(['Sales', 'Customers'], dtype='object')"
            ]
          },
          "metadata": {
            "tags": []
          },
          "execution_count": 139
        }
      ]
    },
    {
      "cell_type": "code",
      "metadata": {
        "id": "NrF6MCMmsO-M"
      },
      "source": [
        "train1=train[variables_numericas]"
      ],
      "execution_count": 147,
      "outputs": []
    },
    {
      "cell_type": "code",
      "metadata": {
        "colab": {
          "base_uri": "https://localhost:8080/"
        },
        "id": "0By2hbOjsY4D",
        "outputId": "30f53a78-e334-4696-b616-60326c1ca7e8"
      },
      "source": [
        "train1.shape"
      ],
      "execution_count": 148,
      "outputs": [
        {
          "output_type": "execute_result",
          "data": {
            "text/plain": [
              "(844392, 2)"
            ]
          },
          "metadata": {
            "tags": []
          },
          "execution_count": 148
        }
      ]
    },
    {
      "cell_type": "code",
      "metadata": {
        "colab": {
          "base_uri": "https://localhost:8080/"
        },
        "id": "tsPH3SkGswRM",
        "outputId": "03694be8-de97-4b63-e51c-bcab0630890f"
      },
      "source": [
        "train1.columns"
      ],
      "execution_count": 149,
      "outputs": [
        {
          "output_type": "execute_result",
          "data": {
            "text/plain": [
              "Index(['Sales', 'Customers'], dtype='object')"
            ]
          },
          "metadata": {
            "tags": []
          },
          "execution_count": 149
        }
      ]
    },
    {
      "cell_type": "markdown",
      "metadata": {
        "id": "2-5zo_xriBCp"
      },
      "source": [
        "**Funcion**"
      ]
    },
    {
      "cell_type": "code",
      "metadata": {
        "id": "Gi3zi0_1hVvH"
      },
      "source": [
        "def rstr(train, pred=None): \n",
        "    obs = train.shape[0]\n",
        "    types = train.dtypes\n",
        "    counts = train.apply(lambda x: x.count())\n",
        "    uniques = train.apply(lambda x: [x.unique()])\n",
        "    uniques=uniques.iloc[0,:]\n",
        "    nulls = train.apply(lambda x: x.isnull().sum())\n",
        "    distincts = train.apply(lambda x: x.unique().shape[0])\n",
        "    missing_ration = (train.isnull().sum()/ obs) * 100\n",
        "    skewness = train.skew()\n",
        "    kurtosis = train.kurt() \n",
        "    print('Data shape:', train.shape)\n",
        "    if pred is None:\n",
        "        cols = ['types', 'counts', 'distincts', 'nulls', 'missing ration', 'uniques', 'skewness', 'kurtosis']\n",
        "        str = pd.concat([types, counts, distincts, nulls, missing_ration, uniques, skewness, kurtosis], axis = 1)\n",
        "    else:\n",
        "        corr = train.corr()[pred]\n",
        "        str = pd.concat([types, counts, distincts, nulls, missing_ration, uniques, skewness, kurtosis, corr], axis = 1, sort=False)\n",
        "        corr_col = 'corr '  + pred\n",
        "        cols = ['types', 'counts', 'distincts', 'nulls', 'missing_ration', 'uniques', 'skewness', 'kurtosis', corr_col ]\n",
        "    \n",
        "    str.columns = cols\n",
        "    dtypes = str.types.value_counts()\n",
        "    return str"
      ],
      "execution_count": 175,
      "outputs": []
    },
    {
      "cell_type": "code",
      "metadata": {
        "colab": {
          "base_uri": "https://localhost:8080/",
          "height": 268
        },
        "id": "7xyHaOACiQES",
        "outputId": "7944ef53-0ff7-4d30-80c7-bb7ed5525968"
      },
      "source": [
        "details = rstr(train1, \"Sales\")\n",
        "display(details.sort_values(by='corr Sales', ascending=False))"
      ],
      "execution_count": 176,
      "outputs": [
        {
          "output_type": "stream",
          "text": [
            "Data shape: (844392, 2)\n"
          ],
          "name": "stdout"
        },
        {
          "output_type": "display_data",
          "data": {
            "text/html": [
              "<div>\n",
              "<style scoped>\n",
              "    .dataframe tbody tr th:only-of-type {\n",
              "        vertical-align: middle;\n",
              "    }\n",
              "\n",
              "    .dataframe tbody tr th {\n",
              "        vertical-align: top;\n",
              "    }\n",
              "\n",
              "    .dataframe thead th {\n",
              "        text-align: right;\n",
              "    }\n",
              "</style>\n",
              "<table border=\"1\" class=\"dataframe\">\n",
              "  <thead>\n",
              "    <tr style=\"text-align: right;\">\n",
              "      <th></th>\n",
              "      <th>types</th>\n",
              "      <th>counts</th>\n",
              "      <th>distincts</th>\n",
              "      <th>nulls</th>\n",
              "      <th>missing_ration</th>\n",
              "      <th>uniques</th>\n",
              "      <th>skewness</th>\n",
              "      <th>kurtosis</th>\n",
              "      <th>corr Sales</th>\n",
              "    </tr>\n",
              "  </thead>\n",
              "  <tbody>\n",
              "    <tr>\n",
              "      <th>Sales</th>\n",
              "      <td>int64</td>\n",
              "      <td>844392</td>\n",
              "      <td>21734</td>\n",
              "      <td>0</td>\n",
              "      <td>0.000000</td>\n",
              "      <td>[5263, 6064, 8314, 13995, 4822, 5651, 15344, 8...</td>\n",
              "      <td>1.593922</td>\n",
              "      <td>4.852012</td>\n",
              "      <td>1.000000</td>\n",
              "    </tr>\n",
              "    <tr>\n",
              "      <th>Customers</th>\n",
              "      <td>int64</td>\n",
              "      <td>844392</td>\n",
              "      <td>4086</td>\n",
              "      <td>0</td>\n",
              "      <td>0.000000</td>\n",
              "      <td>[555, 625, 821, 1498, 559, 589, 1414, 833, 687...</td>\n",
              "      <td>2.788110</td>\n",
              "      <td>13.313755</td>\n",
              "      <td>0.823597</td>\n",
              "    </tr>\n",
              "  </tbody>\n",
              "</table>\n",
              "</div>"
            ],
            "text/plain": [
              "           types  counts  distincts  ...  skewness  kurtosis corr Sales\n",
              "Sales      int64  844392      21734  ...  1.593922  4.852012   1.000000\n",
              "Customers  int64  844392       4086  ...  2.788110 13.313755   0.823597\n",
              "\n",
              "[2 rows x 9 columns]"
            ]
          },
          "metadata": {
            "tags": []
          }
        }
      ]
    },
    {
      "cell_type": "code",
      "metadata": {
        "id": "TlBXlBrqtlKX"
      },
      "source": [
        "num_columnas=[\"Customers\"] # Numericas\n",
        "cat_columnas=[]# Categoricas"
      ],
      "execution_count": 178,
      "outputs": []
    },
    {
      "cell_type": "markdown",
      "metadata": {
        "id": "g9Xk_GSifsjP"
      },
      "source": [
        "# **4. Modelacion**"
      ]
    },
    {
      "cell_type": "markdown",
      "metadata": {
        "id": "gRhiF0xK6DcP"
      },
      "source": [
        "## **4.1. Regresion Simple**"
      ]
    },
    {
      "cell_type": "code",
      "metadata": {
        "id": "f1If8xw3f4kt"
      },
      "source": [
        "datos=train1[[\"Sales\",\"Customers\"]]"
      ],
      "execution_count": 192,
      "outputs": []
    },
    {
      "cell_type": "markdown",
      "metadata": {
        "id": "keQO32hygOrN"
      },
      "source": [
        "**Division de Entrenamiento y Prueba**\n",
        "\n",
        "* Mayor proporcion para entrenar\n",
        "* Baja proporcion para probar"
      ]
    },
    {
      "cell_type": "code",
      "metadata": {
        "id": "C7xKC90rf4oC"
      },
      "source": [
        "from sklearn.model_selection import  train_test_split"
      ],
      "execution_count": 193,
      "outputs": []
    },
    {
      "cell_type": "code",
      "metadata": {
        "id": "ovSi6tbvf4qf"
      },
      "source": [
        "X=datos[[\"Customers\"]]\n",
        "Y=datos[\"Sales\"].values"
      ],
      "execution_count": 195,
      "outputs": []
    },
    {
      "cell_type": "code",
      "metadata": {
        "id": "G2OrpLmMf4td"
      },
      "source": [
        "x_train,x_test,y_train,y_test = train_test_split(X,Y,train_size=0.8)"
      ],
      "execution_count": 196,
      "outputs": []
    },
    {
      "cell_type": "code",
      "metadata": {
        "id": "YPaACOU5f4wN",
        "colab": {
          "base_uri": "https://localhost:8080/",
          "height": 265
        },
        "outputId": "617308cc-c7d8-4eab-e2be-41945fb44a22"
      },
      "source": [
        "plt.plot(X,Y,\"b.\")\n",
        "plt.show()"
      ],
      "execution_count": 198,
      "outputs": [
        {
          "output_type": "display_data",
          "data": {
            "image/png": "[encoded data removed]",
            "text/plain": [
              "<Figure size 432x288 with 1 Axes>"
            ]
          },
          "metadata": {
            "tags": [],
            "needs_background": "light"
          }
        }
      ]
    },
    {
      "cell_type": "code",
      "metadata": {
        "id": "15udc81of4yy"
      },
      "source": [
        "from sklearn.linear_model import LinearRegression"
      ],
      "execution_count": 199,
      "outputs": []
    },
    {
      "cell_type": "code",
      "metadata": {
        "id": "cvcNu8-Qf41o"
      },
      "source": [
        "Modelo_Lineal_Simple=LinearRegression()# funcion\n"
      ],
      "execution_count": 200,
      "outputs": []
    },
    {
      "cell_type": "code",
      "metadata": {
        "colab": {
          "base_uri": "https://localhost:8080/"
        },
        "id": "v189L6u-6gWi",
        "outputId": "83b44895-c6f8-4286-a8bb-e03994019636"
      },
      "source": [
        "#Entrenamiento comando fit\n",
        "Modelo_Lineal_Simple.fit(x_train,y_train)\n",
        "LinearRegression(copy_X=True,fit_intercept=True,n_jobs=None,normalize=False)"
      ],
      "execution_count": 201,
      "outputs": [
        {
          "output_type": "execute_result",
          "data": {
            "text/plain": [
              "LinearRegression(copy_X=True, fit_intercept=True, n_jobs=None, normalize=False)"
            ]
          },
          "metadata": {
            "tags": []
          },
          "execution_count": 201
        }
      ]
    },
    {
      "cell_type": "code",
      "metadata": {
        "colab": {
          "base_uri": "https://localhost:8080/"
        },
        "id": "XSSJfJ0k7B74",
        "outputId": "75edc62b-61a7-4496-e9ae-1917310c6a09"
      },
      "source": [
        "Modelo_Lineal_Simple.coef_"
      ],
      "execution_count": 202,
      "outputs": [
        {
          "output_type": "execute_result",
          "data": {
            "text/plain": [
              "array([6.36955584])"
            ]
          },
          "metadata": {
            "tags": []
          },
          "execution_count": 202
        }
      ]
    },
    {
      "cell_type": "code",
      "metadata": {
        "colab": {
          "base_uri": "https://localhost:8080/"
        },
        "id": "HdhJFQMl7IRF",
        "outputId": "4c09828e-f129-4101-d55e-220ec926130e"
      },
      "source": [
        "Modelo_Lineal_Simple.intercept_"
      ],
      "execution_count": 203,
      "outputs": [
        {
          "output_type": "execute_result",
          "data": {
            "text/plain": [
              "2096.2684424031313"
            ]
          },
          "metadata": {
            "tags": []
          },
          "execution_count": 203
        }
      ]
    },
    {
      "cell_type": "markdown",
      "metadata": {
        "id": "i0kW8-V27cJo"
      },
      "source": [
        "* Cantidad_de_ventas = 2096.2684424031313 + 6.36955584 * Cantidad de clientes en un determinado día + error"
      ]
    },
    {
      "cell_type": "markdown",
      "metadata": {
        "id": "uZDlchKF8EgX"
      },
      "source": [
        "* Si la tienda tiene un visitante más, se espera un incremento de 6.36955584 ventas."
      ]
    },
    {
      "cell_type": "code",
      "metadata": {
        "colab": {
          "base_uri": "https://localhost:8080/"
        },
        "id": "Ymb9e6BJ9C1m",
        "outputId": "89bf59e4-3ac9-4a89-d2ec-d3dfb008468c"
      },
      "source": [
        "predit=Modelo_Lineal_Simple.predict(x_train)\n",
        "predit"
      ],
      "execution_count": 208,
      "outputs": [
        {
          "output_type": "execute_result",
          "data": {
            "text/plain": [
              "array([ 4822.43834079,  4128.15675452, 11746.14553599, ...,\n",
              "        8644.1718432 ,  9357.56209699,  6115.45817577])"
            ]
          },
          "metadata": {
            "tags": []
          },
          "execution_count": 208
        }
      ]
    },
    {
      "cell_type": "code",
      "metadata": {
        "colab": {
          "base_uri": "https://localhost:8080/",
          "height": 265
        },
        "id": "Odtnoawa7OQC",
        "outputId": "27a84cb9-ba7d-4531-a628-1c7bd0ee470c"
      },
      "source": [
        "plt.plot(X,Y,\"b.\")\n",
        "plt.plot(x_train,predit,\"r.\")\n",
        "plt.show()"
      ],
      "execution_count": 212,
      "outputs": [
        {
          "output_type": "display_data",
          "data": {
            "image/png": "[encoded data removed]",
            "text/plain": [
              "<Figure size 432x288 with 1 Axes>"
            ]
          },
          "metadata": {
            "tags": [],
            "needs_background": "light"
          }
        }
      ]
    },
    {
      "cell_type": "markdown",
      "metadata": {
        "id": "cX1rWyRY-Hs_"
      },
      "source": [
        "**Predicciones con datos nuevos**"
      ]
    },
    {
      "cell_type": "code",
      "metadata": {
        "id": "00O4iOVi9j5b"
      },
      "source": [
        "Prediccion_datos_nuevos = Modelo_Lineal_Simple.predict(x_test)"
      ],
      "execution_count": 213,
      "outputs": []
    },
    {
      "cell_type": "code",
      "metadata": {
        "colab": {
          "base_uri": "https://localhost:8080/"
        },
        "id": "EZy2iJk4-Ugu",
        "outputId": "3193d6f9-b833-4ad1-de30-0847cb76fc38"
      },
      "source": [
        "Prediccion_datos_nuevos"
      ],
      "execution_count": 214,
      "outputs": [
        {
          "output_type": "execute_result",
          "data": {
            "text/plain": [
              "array([7440.32578994, 4911.61212251, 5427.54614534, ..., 7134.58710975,\n",
              "       5924.37150065, 6172.78417831])"
            ]
          },
          "metadata": {
            "tags": []
          },
          "execution_count": 214
        }
      ]
    },
    {
      "cell_type": "code",
      "metadata": {
        "colab": {
          "base_uri": "https://localhost:8080/",
          "height": 265
        },
        "id": "epzJnD_7-Y7c",
        "outputId": "484a64e3-230f-40c2-e29a-a985747dc2b2"
      },
      "source": [
        "plt.plot(x_test,y_test,\"b.\")\n",
        "plt.plot(x_test,Prediccion_datos_nuevos,\"r.\")\n",
        "plt.show()"
      ],
      "execution_count": 217,
      "outputs": [
        {
          "output_type": "display_data",
          "data": {
            "image/png": "[encoded data removed]",
            "text/plain": [
              "<Figure size 432x288 with 1 Axes>"
            ]
          },
          "metadata": {
            "tags": [],
            "needs_background": "light"
          }
        }
      ]
    },
    {
      "cell_type": "markdown",
      "metadata": {
        "id": "2n1HyBCc--P4"
      },
      "source": [
        "Terminé la clase del 2 de junio"
      ]
    },
    {
      "cell_type": "code",
      "metadata": {
        "id": "N_aixBQK-jBw"
      },
      "source": [
        ""
      ],
      "execution_count": null,
      "outputs": []
    }
  ]
}